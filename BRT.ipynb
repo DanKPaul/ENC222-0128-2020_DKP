{
 "cells": [
  {
   "cell_type": "code",
   "execution_count": 6,
   "id": "18c973f4-735f-4975-8016-369b15c7061c",
   "metadata": {
    "tags": []
   },
   "outputs": [
    {
     "data": {
      "text/plain": [
       "YEAR\n",
       "2001     21\n",
       "2002     23\n",
       "2003     36\n",
       "2004     33\n",
       "2005     51\n",
       "2006     75\n",
       "2007     36\n",
       "2008     96\n",
       "2009    102\n",
       "2010     17\n",
       "2011     73\n",
       "2012    215\n",
       "2013     27\n",
       "2014     32\n",
       "2015     39\n",
       "2016     31\n",
       "2017     51\n",
       "2018     16\n",
       "2019    205\n",
       "2020     20\n",
       "2021     22\n",
       "2022     88\n",
       "Name: ANN, dtype: int64"
      ]
     },
     "execution_count": 6,
     "metadata": {},
     "output_type": "execute_result"
    }
   ],
   "source": [
    "fire13 = fire12.groupby(\"YEAR\")[\"ANN\"].count()\n",
    "fire13"
   ]
  },
  {
   "cell_type": "code",
   "execution_count": 15,
   "id": "5d1f6f6d-a65f-459f-83ab-ec6850d3dc8b",
   "metadata": {
    "tags": []
   },
   "outputs": [],
   "source": [
    "# Encode categorical variables using one-hot encoding\n",
    "#fire_data = pd.get_dummies(fire_data, columns=['satellite', 'acq_date','instrument', 'daynight'])\n",
    "#weather_data = pd.get_dummies(weather_data, columns=['PARAMETER'])\n",
    "#weather_data1 = pd.get_dummies(weather_data1, columns=['PARAMETER'])\n",
    "#precipitation_data = pd.get_dummies(precipitation_data, columns=['PARAMETER'])\n",
    "#precipitation_data2 = pd.get_dummies(precipitation_data2, columns=['PARAMETER'])\n",
    "#landsurface_temp = pd.get_dummies(landsurface_temp, columns=['PARAMETER'])\n",
    "#temp = pd.get_dummies(temp, columns=['PARAMETER'])\n",
    "#relative_humidity = pd.get_dummies(relative_humidity, columns=['PARAMETER'])\n",
    "#specific_humidity = pd.get_dummies(specific_humidity, columns=['PARAMETER'])\n",
    "#soilwetness_surface = pd.get_dummies(soilwetness_surface, columns=['PARAMETER'])\n",
    "#soilwetness_rootzone = pd.get_dummies(soilwetness_rootzone, columns=['PARAMETER'])\n",
    "#wind_direction = pd.get_dummies(wind_direction, columns=['PARAMETER'])\n",
    "#wind_speed = pd.get_dummies(wind_speed, columns=['PARAMETER'])\n",
    "#yearly_NDVI = pd.get_dummies(weather_data, columns=['PARAMETER'])\n",
    "#monthly_NDVI = pd.get_dummies(weather_data, columns=['PARAMETER'])\n"
   ]
  },
  {
   "cell_type": "code",
   "execution_count": 31,
   "id": "e9c74774-aed9-4a80-85b0-4203668ce10a",
   "metadata": {
    "tags": []
   },
   "outputs": [
    {
     "data": {
      "text/html": [
       "<div>\n",
       "<style scoped>\n",
       "    .dataframe tbody tr th:only-of-type {\n",
       "        vertical-align: middle;\n",
       "    }\n",
       "\n",
       "    .dataframe tbody tr th {\n",
       "        vertical-align: top;\n",
       "    }\n",
       "\n",
       "    .dataframe thead th {\n",
       "        text-align: right;\n",
       "    }\n",
       "</style>\n",
       "<table border=\"1\" class=\"dataframe\">\n",
       "  <thead>\n",
       "    <tr style=\"text-align: right;\">\n",
       "      <th></th>\n",
       "      <th>latitude</th>\n",
       "      <th>longitude</th>\n",
       "      <th>acq_time</th>\n",
       "      <th>YEAR</th>\n",
       "      <th>month</th>\n",
       "      <th>day</th>\n",
       "      <th>ANN</th>\n",
       "      <th>LISA_cluster</th>\n",
       "    </tr>\n",
       "  </thead>\n",
       "  <tbody>\n",
       "    <tr>\n",
       "      <th>0</th>\n",
       "      <td>0.2122</td>\n",
       "      <td>37.7333</td>\n",
       "      <td>801</td>\n",
       "      <td>2001</td>\n",
       "      <td>8</td>\n",
       "      <td>11</td>\n",
       "      <td>21</td>\n",
       "      <td>4</td>\n",
       "    </tr>\n",
       "    <tr>\n",
       "      <th>1</th>\n",
       "      <td>0.1272</td>\n",
       "      <td>37.5555</td>\n",
       "      <td>2023</td>\n",
       "      <td>2001</td>\n",
       "      <td>8</td>\n",
       "      <td>11</td>\n",
       "      <td>21</td>\n",
       "      <td>2</td>\n",
       "    </tr>\n",
       "    <tr>\n",
       "      <th>2</th>\n",
       "      <td>-0.0990</td>\n",
       "      <td>37.4320</td>\n",
       "      <td>843</td>\n",
       "      <td>2001</td>\n",
       "      <td>9</td>\n",
       "      <td>13</td>\n",
       "      <td>21</td>\n",
       "      <td>2</td>\n",
       "    </tr>\n",
       "    <tr>\n",
       "      <th>3</th>\n",
       "      <td>-0.1280</td>\n",
       "      <td>37.4616</td>\n",
       "      <td>843</td>\n",
       "      <td>2001</td>\n",
       "      <td>9</td>\n",
       "      <td>13</td>\n",
       "      <td>21</td>\n",
       "      <td>3</td>\n",
       "    </tr>\n",
       "    <tr>\n",
       "      <th>4</th>\n",
       "      <td>-0.1350</td>\n",
       "      <td>37.4570</td>\n",
       "      <td>843</td>\n",
       "      <td>2001</td>\n",
       "      <td>9</td>\n",
       "      <td>13</td>\n",
       "      <td>21</td>\n",
       "      <td>3</td>\n",
       "    </tr>\n",
       "  </tbody>\n",
       "</table>\n",
       "</div>"
      ],
      "text/plain": [
       "   latitude  longitude  acq_time  YEAR  month  day  ANN  LISA_cluster\n",
       "0    0.2122    37.7333       801  2001      8   11   21             4\n",
       "1    0.1272    37.5555      2023  2001      8   11   21             2\n",
       "2   -0.0990    37.4320       843  2001      9   13   21             2\n",
       "3   -0.1280    37.4616       843  2001      9   13   21             3\n",
       "4   -0.1350    37.4570       843  2001      9   13   21             3"
      ]
     },
     "execution_count": 31,
     "metadata": {},
     "output_type": "execute_result"
    }
   ],
   "source": [
    "import pandas as pd\n",
    "\n",
    "fire_data = pd.read_csv('classified_data2.csv')\n",
    "fire_data.head()\n",
    "\n",
    "\n"
   ]
  },
  {
   "cell_type": "code",
   "execution_count": 32,
   "id": "4b1f3081-713d-489f-9f50-9545c0a354cd",
   "metadata": {
    "tags": []
   },
   "outputs": [
    {
     "data": {
      "text/html": [
       "<div>\n",
       "<style scoped>\n",
       "    .dataframe tbody tr th:only-of-type {\n",
       "        vertical-align: middle;\n",
       "    }\n",
       "\n",
       "    .dataframe tbody tr th {\n",
       "        vertical-align: top;\n",
       "    }\n",
       "\n",
       "    .dataframe thead th {\n",
       "        text-align: right;\n",
       "    }\n",
       "</style>\n",
       "<table border=\"1\" class=\"dataframe\">\n",
       "  <thead>\n",
       "    <tr style=\"text-align: right;\">\n",
       "      <th></th>\n",
       "      <th>latitude</th>\n",
       "      <th>longitude</th>\n",
       "      <th>acq_time</th>\n",
       "      <th>YEAR</th>\n",
       "      <th>day</th>\n",
       "      <th>ANN</th>\n",
       "      <th>LISA_cluster</th>\n",
       "    </tr>\n",
       "  </thead>\n",
       "  <tbody>\n",
       "    <tr>\n",
       "      <th>0</th>\n",
       "      <td>0.2122</td>\n",
       "      <td>37.7333</td>\n",
       "      <td>801</td>\n",
       "      <td>2001</td>\n",
       "      <td>11</td>\n",
       "      <td>21</td>\n",
       "      <td>4</td>\n",
       "    </tr>\n",
       "    <tr>\n",
       "      <th>1</th>\n",
       "      <td>0.1272</td>\n",
       "      <td>37.5555</td>\n",
       "      <td>2023</td>\n",
       "      <td>2001</td>\n",
       "      <td>11</td>\n",
       "      <td>21</td>\n",
       "      <td>2</td>\n",
       "    </tr>\n",
       "    <tr>\n",
       "      <th>2</th>\n",
       "      <td>-0.0990</td>\n",
       "      <td>37.4320</td>\n",
       "      <td>843</td>\n",
       "      <td>2001</td>\n",
       "      <td>13</td>\n",
       "      <td>21</td>\n",
       "      <td>2</td>\n",
       "    </tr>\n",
       "    <tr>\n",
       "      <th>3</th>\n",
       "      <td>-0.1280</td>\n",
       "      <td>37.4616</td>\n",
       "      <td>843</td>\n",
       "      <td>2001</td>\n",
       "      <td>13</td>\n",
       "      <td>21</td>\n",
       "      <td>3</td>\n",
       "    </tr>\n",
       "    <tr>\n",
       "      <th>4</th>\n",
       "      <td>-0.1350</td>\n",
       "      <td>37.4570</td>\n",
       "      <td>843</td>\n",
       "      <td>2001</td>\n",
       "      <td>13</td>\n",
       "      <td>21</td>\n",
       "      <td>3</td>\n",
       "    </tr>\n",
       "    <tr>\n",
       "      <th>...</th>\n",
       "      <td>...</td>\n",
       "      <td>...</td>\n",
       "      <td>...</td>\n",
       "      <td>...</td>\n",
       "      <td>...</td>\n",
       "      <td>...</td>\n",
       "      <td>...</td>\n",
       "    </tr>\n",
       "    <tr>\n",
       "      <th>1304</th>\n",
       "      <td>0.1093</td>\n",
       "      <td>37.2822</td>\n",
       "      <td>756</td>\n",
       "      <td>2022</td>\n",
       "      <td>29</td>\n",
       "      <td>88</td>\n",
       "      <td>1</td>\n",
       "    </tr>\n",
       "    <tr>\n",
       "      <th>1305</th>\n",
       "      <td>0.1203</td>\n",
       "      <td>37.4401</td>\n",
       "      <td>811</td>\n",
       "      <td>2022</td>\n",
       "      <td>24</td>\n",
       "      <td>88</td>\n",
       "      <td>1</td>\n",
       "    </tr>\n",
       "    <tr>\n",
       "      <th>1306</th>\n",
       "      <td>-0.4139</td>\n",
       "      <td>36.9572</td>\n",
       "      <td>1141</td>\n",
       "      <td>2022</td>\n",
       "      <td>24</td>\n",
       "      <td>88</td>\n",
       "      <td>1</td>\n",
       "    </tr>\n",
       "    <tr>\n",
       "      <th>1307</th>\n",
       "      <td>0.0992</td>\n",
       "      <td>37.7738</td>\n",
       "      <td>745</td>\n",
       "      <td>2022</td>\n",
       "      <td>29</td>\n",
       "      <td>88</td>\n",
       "      <td>1</td>\n",
       "    </tr>\n",
       "    <tr>\n",
       "      <th>1308</th>\n",
       "      <td>0.1005</td>\n",
       "      <td>37.7649</td>\n",
       "      <td>745</td>\n",
       "      <td>2022</td>\n",
       "      <td>29</td>\n",
       "      <td>88</td>\n",
       "      <td>4</td>\n",
       "    </tr>\n",
       "  </tbody>\n",
       "</table>\n",
       "<p>1309 rows × 7 columns</p>\n",
       "</div>"
      ],
      "text/plain": [
       "      latitude  longitude  acq_time  YEAR  day  ANN  LISA_cluster\n",
       "0       0.2122    37.7333       801  2001   11   21             4\n",
       "1       0.1272    37.5555      2023  2001   11   21             2\n",
       "2      -0.0990    37.4320       843  2001   13   21             2\n",
       "3      -0.1280    37.4616       843  2001   13   21             3\n",
       "4      -0.1350    37.4570       843  2001   13   21             3\n",
       "...        ...        ...       ...   ...  ...  ...           ...\n",
       "1304    0.1093    37.2822       756  2022   29   88             1\n",
       "1305    0.1203    37.4401       811  2022   24   88             1\n",
       "1306   -0.4139    36.9572      1141  2022   24   88             1\n",
       "1307    0.0992    37.7738       745  2022   29   88             1\n",
       "1308    0.1005    37.7649       745  2022   29   88             4\n",
       "\n",
       "[1309 rows x 7 columns]"
      ]
     },
     "execution_count": 32,
     "metadata": {},
     "output_type": "execute_result"
    }
   ],
   "source": [
    "fire_data2= fire_data.drop('month', axis=1)\n",
    "\n",
    "fire_data2"
   ]
  },
  {
   "cell_type": "code",
   "execution_count": 33,
   "id": "57712a5c-19e0-4b4b-97db-c3bd7d0a1606",
   "metadata": {
    "tags": []
   },
   "outputs": [],
   "source": [
    "fire_data3 = fire_data2.drop('day', axis = 1)"
   ]
  },
  {
   "cell_type": "code",
   "execution_count": 34,
   "id": "3184ff32-530c-482b-afbb-615652932dd6",
   "metadata": {
    "tags": []
   },
   "outputs": [
    {
     "data": {
      "text/html": [
       "<div>\n",
       "<style scoped>\n",
       "    .dataframe tbody tr th:only-of-type {\n",
       "        vertical-align: middle;\n",
       "    }\n",
       "\n",
       "    .dataframe tbody tr th {\n",
       "        vertical-align: top;\n",
       "    }\n",
       "\n",
       "    .dataframe thead th {\n",
       "        text-align: right;\n",
       "    }\n",
       "</style>\n",
       "<table border=\"1\" class=\"dataframe\">\n",
       "  <thead>\n",
       "    <tr style=\"text-align: right;\">\n",
       "      <th></th>\n",
       "      <th>latitude</th>\n",
       "      <th>longitude</th>\n",
       "      <th>acq_time</th>\n",
       "      <th>YEAR</th>\n",
       "      <th>ANN</th>\n",
       "      <th>LISA_cluster</th>\n",
       "    </tr>\n",
       "  </thead>\n",
       "  <tbody>\n",
       "    <tr>\n",
       "      <th>0</th>\n",
       "      <td>0.2122</td>\n",
       "      <td>37.7333</td>\n",
       "      <td>801</td>\n",
       "      <td>2001</td>\n",
       "      <td>21</td>\n",
       "      <td>4</td>\n",
       "    </tr>\n",
       "    <tr>\n",
       "      <th>1</th>\n",
       "      <td>0.1272</td>\n",
       "      <td>37.5555</td>\n",
       "      <td>2023</td>\n",
       "      <td>2001</td>\n",
       "      <td>21</td>\n",
       "      <td>2</td>\n",
       "    </tr>\n",
       "    <tr>\n",
       "      <th>2</th>\n",
       "      <td>-0.0990</td>\n",
       "      <td>37.4320</td>\n",
       "      <td>843</td>\n",
       "      <td>2001</td>\n",
       "      <td>21</td>\n",
       "      <td>2</td>\n",
       "    </tr>\n",
       "    <tr>\n",
       "      <th>3</th>\n",
       "      <td>-0.1280</td>\n",
       "      <td>37.4616</td>\n",
       "      <td>843</td>\n",
       "      <td>2001</td>\n",
       "      <td>21</td>\n",
       "      <td>3</td>\n",
       "    </tr>\n",
       "    <tr>\n",
       "      <th>4</th>\n",
       "      <td>-0.1350</td>\n",
       "      <td>37.4570</td>\n",
       "      <td>843</td>\n",
       "      <td>2001</td>\n",
       "      <td>21</td>\n",
       "      <td>3</td>\n",
       "    </tr>\n",
       "  </tbody>\n",
       "</table>\n",
       "</div>"
      ],
      "text/plain": [
       "   latitude  longitude  acq_time  YEAR  ANN  LISA_cluster\n",
       "0    0.2122    37.7333       801  2001   21             4\n",
       "1    0.1272    37.5555      2023  2001   21             2\n",
       "2   -0.0990    37.4320       843  2001   21             2\n",
       "3   -0.1280    37.4616       843  2001   21             3\n",
       "4   -0.1350    37.4570       843  2001   21             3"
      ]
     },
     "execution_count": 34,
     "metadata": {},
     "output_type": "execute_result"
    }
   ],
   "source": [
    "fire_data3.head()"
   ]
  },
  {
   "cell_type": "code",
   "execution_count": 60,
   "id": "5b83f157-5c1d-4b25-8679-fe297733d9f7",
   "metadata": {
    "tags": []
   },
   "outputs": [],
   "source": [
    "#Fire = pd.read_csv('annual_ann.csv')"
   ]
  },
  {
   "cell_type": "code",
   "execution_count": 61,
   "id": "af5c5db5-10a6-4b24-960f-1120353b6db7",
   "metadata": {
    "tags": []
   },
   "outputs": [
    {
     "data": {
      "text/html": [
       "<div>\n",
       "<style scoped>\n",
       "    .dataframe tbody tr th:only-of-type {\n",
       "        vertical-align: middle;\n",
       "    }\n",
       "\n",
       "    .dataframe tbody tr th {\n",
       "        vertical-align: top;\n",
       "    }\n",
       "\n",
       "    .dataframe thead th {\n",
       "        text-align: right;\n",
       "    }\n",
       "</style>\n",
       "<table border=\"1\" class=\"dataframe\">\n",
       "  <thead>\n",
       "    <tr style=\"text-align: right;\">\n",
       "      <th></th>\n",
       "      <th>YEAR</th>\n",
       "      <th>ANN</th>\n",
       "    </tr>\n",
       "  </thead>\n",
       "  <tbody>\n",
       "    <tr>\n",
       "      <th>0</th>\n",
       "      <td>2001</td>\n",
       "      <td>21</td>\n",
       "    </tr>\n",
       "    <tr>\n",
       "      <th>1</th>\n",
       "      <td>2002</td>\n",
       "      <td>23</td>\n",
       "    </tr>\n",
       "    <tr>\n",
       "      <th>2</th>\n",
       "      <td>2003</td>\n",
       "      <td>36</td>\n",
       "    </tr>\n",
       "    <tr>\n",
       "      <th>3</th>\n",
       "      <td>2004</td>\n",
       "      <td>33</td>\n",
       "    </tr>\n",
       "    <tr>\n",
       "      <th>4</th>\n",
       "      <td>2005</td>\n",
       "      <td>51</td>\n",
       "    </tr>\n",
       "    <tr>\n",
       "      <th>5</th>\n",
       "      <td>2006</td>\n",
       "      <td>75</td>\n",
       "    </tr>\n",
       "    <tr>\n",
       "      <th>6</th>\n",
       "      <td>2007</td>\n",
       "      <td>36</td>\n",
       "    </tr>\n",
       "    <tr>\n",
       "      <th>7</th>\n",
       "      <td>2008</td>\n",
       "      <td>96</td>\n",
       "    </tr>\n",
       "    <tr>\n",
       "      <th>8</th>\n",
       "      <td>2009</td>\n",
       "      <td>102</td>\n",
       "    </tr>\n",
       "    <tr>\n",
       "      <th>9</th>\n",
       "      <td>2010</td>\n",
       "      <td>17</td>\n",
       "    </tr>\n",
       "    <tr>\n",
       "      <th>10</th>\n",
       "      <td>2011</td>\n",
       "      <td>73</td>\n",
       "    </tr>\n",
       "    <tr>\n",
       "      <th>11</th>\n",
       "      <td>2012</td>\n",
       "      <td>215</td>\n",
       "    </tr>\n",
       "    <tr>\n",
       "      <th>12</th>\n",
       "      <td>2013</td>\n",
       "      <td>27</td>\n",
       "    </tr>\n",
       "    <tr>\n",
       "      <th>13</th>\n",
       "      <td>2014</td>\n",
       "      <td>32</td>\n",
       "    </tr>\n",
       "    <tr>\n",
       "      <th>14</th>\n",
       "      <td>2015</td>\n",
       "      <td>39</td>\n",
       "    </tr>\n",
       "    <tr>\n",
       "      <th>15</th>\n",
       "      <td>2016</td>\n",
       "      <td>31</td>\n",
       "    </tr>\n",
       "    <tr>\n",
       "      <th>16</th>\n",
       "      <td>2017</td>\n",
       "      <td>51</td>\n",
       "    </tr>\n",
       "    <tr>\n",
       "      <th>17</th>\n",
       "      <td>2018</td>\n",
       "      <td>16</td>\n",
       "    </tr>\n",
       "    <tr>\n",
       "      <th>18</th>\n",
       "      <td>2019</td>\n",
       "      <td>205</td>\n",
       "    </tr>\n",
       "    <tr>\n",
       "      <th>19</th>\n",
       "      <td>2020</td>\n",
       "      <td>20</td>\n",
       "    </tr>\n",
       "    <tr>\n",
       "      <th>20</th>\n",
       "      <td>2021</td>\n",
       "      <td>22</td>\n",
       "    </tr>\n",
       "    <tr>\n",
       "      <th>21</th>\n",
       "      <td>2022</td>\n",
       "      <td>88</td>\n",
       "    </tr>\n",
       "  </tbody>\n",
       "</table>\n",
       "</div>"
      ],
      "text/plain": [
       "    YEAR  ANN\n",
       "0   2001   21\n",
       "1   2002   23\n",
       "2   2003   36\n",
       "3   2004   33\n",
       "4   2005   51\n",
       "5   2006   75\n",
       "6   2007   36\n",
       "7   2008   96\n",
       "8   2009  102\n",
       "9   2010   17\n",
       "10  2011   73\n",
       "11  2012  215\n",
       "12  2013   27\n",
       "13  2014   32\n",
       "14  2015   39\n",
       "15  2016   31\n",
       "16  2017   51\n",
       "17  2018   16\n",
       "18  2019  205\n",
       "19  2020   20\n",
       "20  2021   22\n",
       "21  2022   88"
      ]
     },
     "execution_count": 61,
     "metadata": {},
     "output_type": "execute_result"
    }
   ],
   "source": [
    "#Fire"
   ]
  },
  {
   "cell_type": "code",
   "execution_count": 90,
   "id": "f00372fe-c023-44bc-820d-51c190a57f01",
   "metadata": {
    "tags": []
   },
   "outputs": [
    {
     "data": {
      "text/html": [
       "<div>\n",
       "<style scoped>\n",
       "    .dataframe tbody tr th:only-of-type {\n",
       "        vertical-align: middle;\n",
       "    }\n",
       "\n",
       "    .dataframe tbody tr th {\n",
       "        vertical-align: top;\n",
       "    }\n",
       "\n",
       "    .dataframe thead th {\n",
       "        text-align: right;\n",
       "    }\n",
       "</style>\n",
       "<table border=\"1\" class=\"dataframe\">\n",
       "  <thead>\n",
       "    <tr style=\"text-align: right;\">\n",
       "      <th></th>\n",
       "      <th>latitude</th>\n",
       "      <th>longitude</th>\n",
       "      <th>acq_time</th>\n",
       "      <th>YEAR</th>\n",
       "      <th>ANN</th>\n",
       "      <th>LISA_cluster</th>\n",
       "      <th>Precipitation</th>\n",
       "      <th>LST</th>\n",
       "      <th>TS</th>\n",
       "      <th>RelaHum</th>\n",
       "      <th>Spechum</th>\n",
       "      <th>NDVI</th>\n",
       "    </tr>\n",
       "  </thead>\n",
       "  <tbody>\n",
       "    <tr>\n",
       "      <th>0</th>\n",
       "      <td>0.2122</td>\n",
       "      <td>37.7333</td>\n",
       "      <td>801</td>\n",
       "      <td>2001</td>\n",
       "      <td>21</td>\n",
       "      <td>4</td>\n",
       "      <td>5.27</td>\n",
       "      <td>18.64</td>\n",
       "      <td>18.69</td>\n",
       "      <td>72.75</td>\n",
       "      <td>10.74</td>\n",
       "      <td>0.514756</td>\n",
       "    </tr>\n",
       "    <tr>\n",
       "      <th>1</th>\n",
       "      <td>0.2122</td>\n",
       "      <td>37.7333</td>\n",
       "      <td>801</td>\n",
       "      <td>2001</td>\n",
       "      <td>21</td>\n",
       "      <td>4</td>\n",
       "      <td>5.27</td>\n",
       "      <td>18.64</td>\n",
       "      <td>18.69</td>\n",
       "      <td>72.75</td>\n",
       "      <td>10.74</td>\n",
       "      <td>0.514756</td>\n",
       "    </tr>\n",
       "    <tr>\n",
       "      <th>2</th>\n",
       "      <td>0.2122</td>\n",
       "      <td>37.7333</td>\n",
       "      <td>801</td>\n",
       "      <td>2001</td>\n",
       "      <td>21</td>\n",
       "      <td>4</td>\n",
       "      <td>5.27</td>\n",
       "      <td>18.64</td>\n",
       "      <td>18.69</td>\n",
       "      <td>72.75</td>\n",
       "      <td>10.74</td>\n",
       "      <td>0.514756</td>\n",
       "    </tr>\n",
       "    <tr>\n",
       "      <th>3</th>\n",
       "      <td>0.2122</td>\n",
       "      <td>37.7333</td>\n",
       "      <td>801</td>\n",
       "      <td>2001</td>\n",
       "      <td>21</td>\n",
       "      <td>4</td>\n",
       "      <td>5.27</td>\n",
       "      <td>18.64</td>\n",
       "      <td>18.69</td>\n",
       "      <td>72.75</td>\n",
       "      <td>10.74</td>\n",
       "      <td>0.514756</td>\n",
       "    </tr>\n",
       "    <tr>\n",
       "      <th>4</th>\n",
       "      <td>0.2122</td>\n",
       "      <td>37.7333</td>\n",
       "      <td>801</td>\n",
       "      <td>2001</td>\n",
       "      <td>21</td>\n",
       "      <td>4</td>\n",
       "      <td>5.27</td>\n",
       "      <td>18.64</td>\n",
       "      <td>18.69</td>\n",
       "      <td>72.75</td>\n",
       "      <td>10.74</td>\n",
       "      <td>0.514756</td>\n",
       "    </tr>\n",
       "  </tbody>\n",
       "</table>\n",
       "</div>"
      ],
      "text/plain": [
       "   latitude  longitude  acq_time  YEAR  ANN  LISA_cluster  Precipitation  \\\n",
       "0    0.2122    37.7333       801  2001   21             4           5.27   \n",
       "1    0.2122    37.7333       801  2001   21             4           5.27   \n",
       "2    0.2122    37.7333       801  2001   21             4           5.27   \n",
       "3    0.2122    37.7333       801  2001   21             4           5.27   \n",
       "4    0.2122    37.7333       801  2001   21             4           5.27   \n",
       "\n",
       "     LST     TS  RelaHum  Spechum      NDVI  \n",
       "0  18.64  18.69    72.75    10.74  0.514756  \n",
       "1  18.64  18.69    72.75    10.74  0.514756  \n",
       "2  18.64  18.69    72.75    10.74  0.514756  \n",
       "3  18.64  18.69    72.75    10.74  0.514756  \n",
       "4  18.64  18.69    72.75    10.74  0.514756  "
      ]
     },
     "execution_count": 90,
     "metadata": {},
     "output_type": "execute_result"
    }
   ],
   "source": [
    "import pandas as pd\n",
    "from sklearn.model_selection import train_test_split\n",
    "from sklearn.ensemble import RandomForestClassifier\n",
    "from sklearn.metrics import classification_report, confusion_matrix\n",
    "\n",
    "# Load fire data and weather data\n",
    "fire_data = fire_data3\n",
    "weather_data = pd.read_csv('Precipitation2.csv')\n",
    "\n",
    "\n",
    "#weather_data1 = pd.read_csv(\"RELATIVE HUMIDITY.csv\")\n",
    "#precipitation_data2 = pd.read_csv(\"Monthly_Precipitation_Mt_Kenya_Forest.csv\")\n",
    "landsurface_temp = pd.read_csv(\"LST2.csv\")\n",
    "temp = pd.read_csv(\"Earth SKIN Temp2.csv\")\n",
    "relative_humidity = pd.read_csv(\"Relative_Humidity2.csv\")\n",
    "specific_humidity = pd.read_csv(\"Specific_Humidity2.csv\")\n",
    "soilwetness_surface = pd.read_csv(\"SoilWetness_Surface2.csv\")\n",
    "soilwetness_rootzone = pd.read_csv(\"SoilWetness_Rootzone2.csv\")\n",
    "wind_direction = pd.read_csv(\"Wind_Direction2.csv\")\n",
    "wind_speed = pd.read_csv(\"Wind_Speed2.csv\")\n",
    "yearly_NDVI = pd.read_csv(\"Yearly_Thresholds_Mt_Kenya_Forest22.csv\")\n",
    "#monthly_NDVI = pd.read_csv(\"Monthly_NDVI_Mt_Kenya_Forest.csv\")\n",
    "\n",
    "\n",
    "\n",
    "# Merge datasets based on common columns\n",
    "\n",
    "merged_data = pd.merge(fire_data, weather_data, on=['YEAR'])\n",
    "merged_data = pd.merge(merged_data, landsurface_temp, on=['YEAR'])\n",
    "merged_data = pd.merge(merged_data, temp, on=['YEAR'])\n",
    "merged_data = pd.merge(merged_data, relative_humidity, on=['YEAR']) \n",
    "merged_data = pd.merge(merged_data, specific_humidity, on=['YEAR'])\n",
    "merged_data = pd.merge(merged_data, yearly_NDVI, on=['YEAR'])\n",
    "#merged_data = pd.merge(merged_data, soilwetness_surface, on=['YEAR']) \n",
    "#merged_data = pd.merge(merged_data, soilwetness_rootzone, on=['YEAR']) \n",
    "#merged_data = pd.merge(merged_data, wind_direction, on=['YEAR']) \n",
    "#merged_data = pd.merge(merged_data, wind_speed, on=['YEAR']) \n",
    "\n",
    "\n",
    "merged_data.head()"
   ]
  },
  {
   "cell_type": "code",
   "execution_count": 91,
   "id": "b2b260de-7bb0-4587-ae55-ac85a0a447eb",
   "metadata": {
    "tags": []
   },
   "outputs": [],
   "source": [
    "# Feature selection\n",
    "features = ['latitude','longitude','YEAR','LISA_cluster','Precipitation', 'LST', 'TS', 'RelaHum', 'Spechum', 'NDVI']  # Add relevant features\n",
    "X = merged_data[features]\n",
    "y = merged_data['ANN']\n"
   ]
  },
  {
   "cell_type": "code",
   "execution_count": 92,
   "id": "03f589ff-f5ff-4824-a7e8-3b0f18b1b7ce",
   "metadata": {
    "tags": []
   },
   "outputs": [],
   "source": [
    "from sklearn.model_selection import train_test_split\n",
    "X_train, X_test, y_train, y_test = train_test_split(X, y, test_size=0.2, random_state=42)\n"
   ]
  },
  {
   "cell_type": "code",
   "execution_count": 93,
   "id": "bfb2ebb8-d01c-4c80-a351-5ce1cb15dfeb",
   "metadata": {
    "tags": []
   },
   "outputs": [],
   "source": [
    "#pip install xgboost\n"
   ]
  },
  {
   "cell_type": "code",
   "execution_count": 94,
   "id": "03667eef-2785-42b1-b31e-d04258c3ad85",
   "metadata": {
    "tags": []
   },
   "outputs": [],
   "source": [
    "import xgboost as xgb\n",
    "#model = xgb.XGBRegressor()\n",
    "#model.fit(X_train, y_train)\n"
   ]
  },
  {
   "cell_type": "code",
   "execution_count": 95,
   "id": "055beb62-2c64-4139-9fc1-7867b2faecf4",
   "metadata": {
    "tags": []
   },
   "outputs": [],
   "source": [
    "model = xgb.XGBRegressor()\n"
   ]
  },
  {
   "cell_type": "code",
   "execution_count": 96,
   "id": "b6f9bb99-f37e-4898-a941-4739110ed6e9",
   "metadata": {
    "tags": []
   },
   "outputs": [],
   "source": [
    "model = xgb.XGBRegressor(n_estimators=100, max_depth=3, learning_rate=0.1)\n"
   ]
  },
  {
   "cell_type": "code",
   "execution_count": 97,
   "id": "abe63bc5-85cc-477e-ab2e-b9dcd7c9813b",
   "metadata": {
    "tags": []
   },
   "outputs": [
    {
     "data": {
      "text/html": [
       "<style>#sk-container-id-5 {color: black;}#sk-container-id-5 pre{padding: 0;}#sk-container-id-5 div.sk-toggleable {background-color: white;}#sk-container-id-5 label.sk-toggleable__label {cursor: pointer;display: block;width: 100%;margin-bottom: 0;padding: 0.3em;box-sizing: border-box;text-align: center;}#sk-container-id-5 label.sk-toggleable__label-arrow:before {content: \"▸\";float: left;margin-right: 0.25em;color: #696969;}#sk-container-id-5 label.sk-toggleable__label-arrow:hover:before {color: black;}#sk-container-id-5 div.sk-estimator:hover label.sk-toggleable__label-arrow:before {color: black;}#sk-container-id-5 div.sk-toggleable__content {max-height: 0;max-width: 0;overflow: hidden;text-align: left;background-color: #f0f8ff;}#sk-container-id-5 div.sk-toggleable__content pre {margin: 0.2em;color: black;border-radius: 0.25em;background-color: #f0f8ff;}#sk-container-id-5 input.sk-toggleable__control:checked~div.sk-toggleable__content {max-height: 200px;max-width: 100%;overflow: auto;}#sk-container-id-5 input.sk-toggleable__control:checked~label.sk-toggleable__label-arrow:before {content: \"▾\";}#sk-container-id-5 div.sk-estimator input.sk-toggleable__control:checked~label.sk-toggleable__label {background-color: #d4ebff;}#sk-container-id-5 div.sk-label input.sk-toggleable__control:checked~label.sk-toggleable__label {background-color: #d4ebff;}#sk-container-id-5 input.sk-hidden--visually {border: 0;clip: rect(1px 1px 1px 1px);clip: rect(1px, 1px, 1px, 1px);height: 1px;margin: -1px;overflow: hidden;padding: 0;position: absolute;width: 1px;}#sk-container-id-5 div.sk-estimator {font-family: monospace;background-color: #f0f8ff;border: 1px dotted black;border-radius: 0.25em;box-sizing: border-box;margin-bottom: 0.5em;}#sk-container-id-5 div.sk-estimator:hover {background-color: #d4ebff;}#sk-container-id-5 div.sk-parallel-item::after {content: \"\";width: 100%;border-bottom: 1px solid gray;flex-grow: 1;}#sk-container-id-5 div.sk-label:hover label.sk-toggleable__label {background-color: #d4ebff;}#sk-container-id-5 div.sk-serial::before {content: \"\";position: absolute;border-left: 1px solid gray;box-sizing: border-box;top: 0;bottom: 0;left: 50%;z-index: 0;}#sk-container-id-5 div.sk-serial {display: flex;flex-direction: column;align-items: center;background-color: white;padding-right: 0.2em;padding-left: 0.2em;position: relative;}#sk-container-id-5 div.sk-item {position: relative;z-index: 1;}#sk-container-id-5 div.sk-parallel {display: flex;align-items: stretch;justify-content: center;background-color: white;position: relative;}#sk-container-id-5 div.sk-item::before, #sk-container-id-5 div.sk-parallel-item::before {content: \"\";position: absolute;border-left: 1px solid gray;box-sizing: border-box;top: 0;bottom: 0;left: 50%;z-index: -1;}#sk-container-id-5 div.sk-parallel-item {display: flex;flex-direction: column;z-index: 1;position: relative;background-color: white;}#sk-container-id-5 div.sk-parallel-item:first-child::after {align-self: flex-end;width: 50%;}#sk-container-id-5 div.sk-parallel-item:last-child::after {align-self: flex-start;width: 50%;}#sk-container-id-5 div.sk-parallel-item:only-child::after {width: 0;}#sk-container-id-5 div.sk-dashed-wrapped {border: 1px dashed gray;margin: 0 0.4em 0.5em 0.4em;box-sizing: border-box;padding-bottom: 0.4em;background-color: white;}#sk-container-id-5 div.sk-label label {font-family: monospace;font-weight: bold;display: inline-block;line-height: 1.2em;}#sk-container-id-5 div.sk-label-container {text-align: center;}#sk-container-id-5 div.sk-container {/* jupyter's `normalize.less` sets `[hidden] { display: none; }` but bootstrap.min.css set `[hidden] { display: none !important; }` so we also need the `!important` here to be able to override the default hidden behavior on the sphinx rendered scikit-learn.org. See: https://github.com/scikit-learn/scikit-learn/issues/21755 */display: inline-block !important;position: relative;}#sk-container-id-5 div.sk-text-repr-fallback {display: none;}</style><div id=\"sk-container-id-5\" class=\"sk-top-container\"><div class=\"sk-text-repr-fallback\"><pre>XGBRegressor(base_score=None, booster=None, callbacks=None,\n",
       "             colsample_bylevel=None, colsample_bynode=None,\n",
       "             colsample_bytree=None, device=None, early_stopping_rounds=None,\n",
       "             enable_categorical=False, eval_metric=None, feature_types=None,\n",
       "             gamma=None, grow_policy=None, importance_type=None,\n",
       "             interaction_constraints=None, learning_rate=0.1, max_bin=None,\n",
       "             max_cat_threshold=None, max_cat_to_onehot=None,\n",
       "             max_delta_step=None, max_depth=3, max_leaves=None,\n",
       "             min_child_weight=None, missing=nan, monotone_constraints=None,\n",
       "             multi_strategy=None, n_estimators=100, n_jobs=None,\n",
       "             num_parallel_tree=None, random_state=None, ...)</pre><b>In a Jupyter environment, please rerun this cell to show the HTML representation or trust the notebook. <br />On GitHub, the HTML representation is unable to render, please try loading this page with nbviewer.org.</b></div><div class=\"sk-container\" hidden><div class=\"sk-item\"><div class=\"sk-estimator sk-toggleable\"><input class=\"sk-toggleable__control sk-hidden--visually\" id=\"sk-estimator-id-5\" type=\"checkbox\" checked><label for=\"sk-estimator-id-5\" class=\"sk-toggleable__label sk-toggleable__label-arrow\">XGBRegressor</label><div class=\"sk-toggleable__content\"><pre>XGBRegressor(base_score=None, booster=None, callbacks=None,\n",
       "             colsample_bylevel=None, colsample_bynode=None,\n",
       "             colsample_bytree=None, device=None, early_stopping_rounds=None,\n",
       "             enable_categorical=False, eval_metric=None, feature_types=None,\n",
       "             gamma=None, grow_policy=None, importance_type=None,\n",
       "             interaction_constraints=None, learning_rate=0.1, max_bin=None,\n",
       "             max_cat_threshold=None, max_cat_to_onehot=None,\n",
       "             max_delta_step=None, max_depth=3, max_leaves=None,\n",
       "             min_child_weight=None, missing=nan, monotone_constraints=None,\n",
       "             multi_strategy=None, n_estimators=100, n_jobs=None,\n",
       "             num_parallel_tree=None, random_state=None, ...)</pre></div></div></div></div></div>"
      ],
      "text/plain": [
       "XGBRegressor(base_score=None, booster=None, callbacks=None,\n",
       "             colsample_bylevel=None, colsample_bynode=None,\n",
       "             colsample_bytree=None, device=None, early_stopping_rounds=None,\n",
       "             enable_categorical=False, eval_metric=None, feature_types=None,\n",
       "             gamma=None, grow_policy=None, importance_type=None,\n",
       "             interaction_constraints=None, learning_rate=0.1, max_bin=None,\n",
       "             max_cat_threshold=None, max_cat_to_onehot=None,\n",
       "             max_delta_step=None, max_depth=3, max_leaves=None,\n",
       "             min_child_weight=None, missing=nan, monotone_constraints=None,\n",
       "             multi_strategy=None, n_estimators=100, n_jobs=None,\n",
       "             num_parallel_tree=None, random_state=None, ...)"
      ]
     },
     "execution_count": 97,
     "metadata": {},
     "output_type": "execute_result"
    }
   ],
   "source": [
    "model.fit(X_train, y_train)"
   ]
  },
  {
   "cell_type": "code",
   "execution_count": 98,
   "id": "57abcbe2-0cd0-49d5-a05e-8e6207e5251f",
   "metadata": {
    "tags": []
   },
   "outputs": [
    {
     "name": "stdout",
     "output_type": "stream",
     "text": [
      "Root Mean Squared Error: 0.2939319567078427\n",
      "Mean Squared Error (MSE): 0.08639599517410114\n"
     ]
    }
   ],
   "source": [
    "from sklearn.metrics import mean_squared_error\n",
    "y_pred = model.predict(X_test)\n",
    "mse = mean_squared_error(y_test, y_pred)\n",
    "rmse = mse ** 0.5\n",
    "\n",
    "print(\"Root Mean Squared Error:\", rmse)\n",
    "print(\"Mean Squared Error (MSE):\", mse)"
   ]
  },
  {
   "cell_type": "code",
   "execution_count": 126,
   "id": "d928b5d2-f6d2-499a-9834-44cafff527cc",
   "metadata": {
    "tags": []
   },
   "outputs": [],
   "source": [
    "# Save the model using joblib\n",
    "joblib.dump(model, 'xgb_model1.joblib')\n",
    "\n",
    "# Save the model using pickle\n",
    "with open('xgb_model1.pkl', 'wb') as file:\n",
    "    pickle.dump(model, file)"
   ]
  },
  {
   "cell_type": "code",
   "execution_count": 128,
   "id": "98856016-97db-4f7c-821f-71671b1865c8",
   "metadata": {
    "tags": []
   },
   "outputs": [
    {
     "ename": "NotFittedError",
     "evalue": "need to call fit or load_model beforehand",
     "output_type": "error",
     "traceback": [
      "\u001b[1;31m---------------------------------------------------------------------------\u001b[0m",
      "\u001b[1;31mNotFittedError\u001b[0m                            Traceback (most recent call last)",
      "Cell \u001b[1;32mIn[128], line 9\u001b[0m\n\u001b[0;32m      6\u001b[0m     loaded_model_pickle \u001b[38;5;241m=\u001b[39m pickle\u001b[38;5;241m.\u001b[39mload(file)\n\u001b[0;32m      8\u001b[0m \u001b[38;5;66;03m# Make predictions using the loaded models\u001b[39;00m\n\u001b[1;32m----> 9\u001b[0m predictions_joblib \u001b[38;5;241m=\u001b[39m loaded_model_joblib\u001b[38;5;241m.\u001b[39mpredict(X_test)\n\u001b[0;32m     10\u001b[0m predictions_pickle \u001b[38;5;241m=\u001b[39m loaded_model_pickle\u001b[38;5;241m.\u001b[39mpredict(X_test)\n\u001b[0;32m     12\u001b[0m \u001b[38;5;66;03m# Print predictions\u001b[39;00m\n",
      "File \u001b[1;32m~\\anaconda3\\Lib\\site-packages\\xgboost\\sklearn.py:1168\u001b[0m, in \u001b[0;36mXGBModel.predict\u001b[1;34m(self, X, output_margin, validate_features, base_margin, iteration_range)\u001b[0m\n\u001b[0;32m   1166\u001b[0m \u001b[38;5;28;01mif\u001b[39;00m \u001b[38;5;28mself\u001b[39m\u001b[38;5;241m.\u001b[39m_can_use_inplace_predict():\n\u001b[0;32m   1167\u001b[0m     \u001b[38;5;28;01mtry\u001b[39;00m:\n\u001b[1;32m-> 1168\u001b[0m         predts \u001b[38;5;241m=\u001b[39m \u001b[38;5;28mself\u001b[39m\u001b[38;5;241m.\u001b[39mget_booster()\u001b[38;5;241m.\u001b[39minplace_predict(\n\u001b[0;32m   1169\u001b[0m             data\u001b[38;5;241m=\u001b[39mX,\n\u001b[0;32m   1170\u001b[0m             iteration_range\u001b[38;5;241m=\u001b[39miteration_range,\n\u001b[0;32m   1171\u001b[0m             predict_type\u001b[38;5;241m=\u001b[39m\u001b[38;5;124m\"\u001b[39m\u001b[38;5;124mmargin\u001b[39m\u001b[38;5;124m\"\u001b[39m \u001b[38;5;28;01mif\u001b[39;00m output_margin \u001b[38;5;28;01melse\u001b[39;00m \u001b[38;5;124m\"\u001b[39m\u001b[38;5;124mvalue\u001b[39m\u001b[38;5;124m\"\u001b[39m,\n\u001b[0;32m   1172\u001b[0m             missing\u001b[38;5;241m=\u001b[39m\u001b[38;5;28mself\u001b[39m\u001b[38;5;241m.\u001b[39mmissing,\n\u001b[0;32m   1173\u001b[0m             base_margin\u001b[38;5;241m=\u001b[39mbase_margin,\n\u001b[0;32m   1174\u001b[0m             validate_features\u001b[38;5;241m=\u001b[39mvalidate_features,\n\u001b[0;32m   1175\u001b[0m         )\n\u001b[0;32m   1176\u001b[0m         \u001b[38;5;28;01mif\u001b[39;00m _is_cupy_array(predts):\n\u001b[0;32m   1177\u001b[0m             \u001b[38;5;28;01mimport\u001b[39;00m \u001b[38;5;21;01mcupy\u001b[39;00m  \u001b[38;5;66;03m# pylint: disable=import-error\u001b[39;00m\n",
      "File \u001b[1;32m~\\anaconda3\\Lib\\site-packages\\xgboost\\sklearn.py:725\u001b[0m, in \u001b[0;36mXGBModel.get_booster\u001b[1;34m(self)\u001b[0m\n\u001b[0;32m    722\u001b[0m \u001b[38;5;28;01mif\u001b[39;00m \u001b[38;5;129;01mnot\u001b[39;00m \u001b[38;5;28mself\u001b[39m\u001b[38;5;241m.\u001b[39m__sklearn_is_fitted__():\n\u001b[0;32m    723\u001b[0m     \u001b[38;5;28;01mfrom\u001b[39;00m \u001b[38;5;21;01msklearn\u001b[39;00m\u001b[38;5;21;01m.\u001b[39;00m\u001b[38;5;21;01mexceptions\u001b[39;00m \u001b[38;5;28;01mimport\u001b[39;00m NotFittedError\n\u001b[1;32m--> 725\u001b[0m     \u001b[38;5;28;01mraise\u001b[39;00m NotFittedError(\u001b[38;5;124m\"\u001b[39m\u001b[38;5;124mneed to call fit or load_model beforehand\u001b[39m\u001b[38;5;124m\"\u001b[39m)\n\u001b[0;32m    726\u001b[0m \u001b[38;5;28;01mreturn\u001b[39;00m \u001b[38;5;28mself\u001b[39m\u001b[38;5;241m.\u001b[39m_Booster\n",
      "\u001b[1;31mNotFittedError\u001b[0m: need to call fit or load_model beforehand"
     ]
    }
   ],
   "source": [
    "# Load the model using joblib\n",
    "loaded_model_joblib = joblib.load('xgb_model1.joblib')\n",
    "\n",
    "# Load the model using pickle\n",
    "with open('xgb_model1.pkl', 'rb') as file:\n",
    "    loaded_model_pickle = pickle.load(file)\n",
    "\n",
    "# Make predictions using the loaded models\n",
    "predictions_joblib = loaded_model_joblib.predict(X_test)\n",
    "predictions_pickle = loaded_model_pickle.predict(X_test)\n",
    "\n",
    "# Print predictions\n",
    "print(predictions_joblib)\n",
    "print(predictions_pickle)\n"
   ]
  },
  {
   "cell_type": "code",
   "execution_count": null,
   "id": "dbd090e8-ca54-48ae-a859-69ddecb4c17c",
   "metadata": {},
   "outputs": [],
   "source": []
  },
  {
   "cell_type": "code",
   "execution_count": null,
   "id": "8cb34b74-a7b4-4578-aed2-e78a9b20d0d9",
   "metadata": {},
   "outputs": [],
   "source": []
  },
  {
   "cell_type": "code",
   "execution_count": null,
   "id": "691c1d1b-ce69-4ba6-9228-4ab2ff2fcb6e",
   "metadata": {},
   "outputs": [],
   "source": []
  },
  {
   "cell_type": "code",
   "execution_count": null,
   "id": "0d792120-9625-4edf-95b0-7bc1369d0ee5",
   "metadata": {},
   "outputs": [],
   "source": []
  },
  {
   "cell_type": "code",
   "execution_count": 102,
   "id": "fa9de6b9-1e49-4ff0-a1df-d45441c6f633",
   "metadata": {
    "tags": []
   },
   "outputs": [
    {
     "name": "stdout",
     "output_type": "stream",
     "text": [
      "   latitude  longitude  YEAR  Precipitation  LST    TS  RelaHum  Spechum  NDVI\n",
      "0      0.27       37.2  2020              5   19  19.2       70       10   0.6\n",
      "1      0.27       37.2  2021              5   19  19.2       70       10   0.6\n"
     ]
    }
   ],
   "source": [
    "import pandas as pd\n",
    "# Forecast ANN values for the years 2020 to 2030\n",
    "years_forecast = range(2020, 2033)\n",
    "month_forecast = range(1,12)\n",
    "\n",
    "\n",
    "# Define assumed or estimated values for features\n",
    "forecast_years = range(2020, 2022)\n",
    "#forecast_months = range(1,13)\n",
    "#latitude = 0.27  # Example latitude value\n",
    "#longitude = 37.2  # Example longitude value\n",
    "#day = 21\n",
    "LISA_cluster = range(1,5)\n",
    "precipitation = [5] * len(forecast_years)  # Example precipitation values (assuming constant)\n",
    "lst = [19] * len(forecast_years)  # Example LST values (assuming constant)\n",
    "ts = [19.20] * len(forecast_years)  # Example TS values (assuming constant)\n",
    "relahum = [70] * len(forecast_years)  # Example RelaHum values (assuming constant)\n",
    "spechum = [10] * len(forecast_years)  # Example Spechum values (assuming constant)\n",
    "ndvi = [0.6] * len(forecast_years)  # Example NDVI values (assuming constant)\n",
    "\n",
    "\n",
    "\n",
    "# Create the forecast_data DataFrame\n",
    "forecast_data = pd.DataFrame({\n",
    "    'latitude': [latitude] * len(forecast_years),\n",
    "    'longitude': [longitude] * len(forecast_years),\n",
    "    'YEAR': forecast_years,\n",
    "    #'month':month,\n",
    "    #'day':day,\n",
    "    #'LISA_cluster':LISA_cluster,\n",
    "    'Precipitation': precipitation,\n",
    "    'LST': lst,\n",
    "    'TS': ts,\n",
    "    'RelaHum': relahum,\n",
    "    'Spechum': spechum,\n",
    "    'NDVI': ndvi\n",
    "})\n",
    "\n",
    "print(forecast_data)\n"
   ]
  },
  {
   "cell_type": "code",
   "execution_count": 103,
   "id": "bdf2f7e7-c8ed-4121-8d8d-2d3bf59a71cd",
   "metadata": {
    "tags": []
   },
   "outputs": [
    {
     "ename": "ValueError",
     "evalue": "feature_names mismatch: ['latitude', 'longitude', 'YEAR', 'LISA_cluster', 'Precipitation', 'LST', 'TS', 'RelaHum', 'Spechum', 'NDVI'] ['latitude', 'longitude', 'YEAR', 'Precipitation', 'LST', 'TS', 'RelaHum', 'Spechum', 'NDVI']\nexpected LISA_cluster in input data",
     "output_type": "error",
     "traceback": [
      "\u001b[1;31m---------------------------------------------------------------------------\u001b[0m",
      "\u001b[1;31mValueError\u001b[0m                                Traceback (most recent call last)",
      "Cell \u001b[1;32mIn[103], line 4\u001b[0m\n\u001b[0;32m      1\u001b[0m \u001b[38;5;28;01mimport\u001b[39;00m \u001b[38;5;21;01mmatplotlib\u001b[39;00m\u001b[38;5;21;01m.\u001b[39;00m\u001b[38;5;21;01mpyplot\u001b[39;00m \u001b[38;5;28;01mas\u001b[39;00m \u001b[38;5;21;01mplt\u001b[39;00m\n\u001b[0;32m      3\u001b[0m \u001b[38;5;66;03m# Make predictions for the forecast data\u001b[39;00m\n\u001b[1;32m----> 4\u001b[0m forecast_ann \u001b[38;5;241m=\u001b[39m model\u001b[38;5;241m.\u001b[39mpredict(forecast_data)\n\u001b[0;32m      6\u001b[0m \u001b[38;5;66;03m# Plotting the existing ANN values and forecasted values\u001b[39;00m\n\u001b[0;32m      7\u001b[0m plt\u001b[38;5;241m.\u001b[39mfigure(figsize\u001b[38;5;241m=\u001b[39m(\u001b[38;5;241m12\u001b[39m, \u001b[38;5;241m6\u001b[39m))\n",
      "File \u001b[1;32m~\\anaconda3\\Lib\\site-packages\\xgboost\\sklearn.py:1168\u001b[0m, in \u001b[0;36mXGBModel.predict\u001b[1;34m(self, X, output_margin, validate_features, base_margin, iteration_range)\u001b[0m\n\u001b[0;32m   1166\u001b[0m \u001b[38;5;28;01mif\u001b[39;00m \u001b[38;5;28mself\u001b[39m\u001b[38;5;241m.\u001b[39m_can_use_inplace_predict():\n\u001b[0;32m   1167\u001b[0m     \u001b[38;5;28;01mtry\u001b[39;00m:\n\u001b[1;32m-> 1168\u001b[0m         predts \u001b[38;5;241m=\u001b[39m \u001b[38;5;28mself\u001b[39m\u001b[38;5;241m.\u001b[39mget_booster()\u001b[38;5;241m.\u001b[39minplace_predict(\n\u001b[0;32m   1169\u001b[0m             data\u001b[38;5;241m=\u001b[39mX,\n\u001b[0;32m   1170\u001b[0m             iteration_range\u001b[38;5;241m=\u001b[39miteration_range,\n\u001b[0;32m   1171\u001b[0m             predict_type\u001b[38;5;241m=\u001b[39m\u001b[38;5;124m\"\u001b[39m\u001b[38;5;124mmargin\u001b[39m\u001b[38;5;124m\"\u001b[39m \u001b[38;5;28;01mif\u001b[39;00m output_margin \u001b[38;5;28;01melse\u001b[39;00m \u001b[38;5;124m\"\u001b[39m\u001b[38;5;124mvalue\u001b[39m\u001b[38;5;124m\"\u001b[39m,\n\u001b[0;32m   1172\u001b[0m             missing\u001b[38;5;241m=\u001b[39m\u001b[38;5;28mself\u001b[39m\u001b[38;5;241m.\u001b[39mmissing,\n\u001b[0;32m   1173\u001b[0m             base_margin\u001b[38;5;241m=\u001b[39mbase_margin,\n\u001b[0;32m   1174\u001b[0m             validate_features\u001b[38;5;241m=\u001b[39mvalidate_features,\n\u001b[0;32m   1175\u001b[0m         )\n\u001b[0;32m   1176\u001b[0m         \u001b[38;5;28;01mif\u001b[39;00m _is_cupy_array(predts):\n\u001b[0;32m   1177\u001b[0m             \u001b[38;5;28;01mimport\u001b[39;00m \u001b[38;5;21;01mcupy\u001b[39;00m  \u001b[38;5;66;03m# pylint: disable=import-error\u001b[39;00m\n",
      "File \u001b[1;32m~\\anaconda3\\Lib\\site-packages\\xgboost\\core.py:2418\u001b[0m, in \u001b[0;36mBooster.inplace_predict\u001b[1;34m(self, data, iteration_range, predict_type, missing, validate_features, base_margin, strict_shape)\u001b[0m\n\u001b[0;32m   2416\u001b[0m     data, fns, _ \u001b[38;5;241m=\u001b[39m _transform_pandas_df(data, enable_categorical)\n\u001b[0;32m   2417\u001b[0m     \u001b[38;5;28;01mif\u001b[39;00m validate_features:\n\u001b[1;32m-> 2418\u001b[0m         \u001b[38;5;28mself\u001b[39m\u001b[38;5;241m.\u001b[39m_validate_features(fns)\n\u001b[0;32m   2419\u001b[0m \u001b[38;5;28;01mif\u001b[39;00m _is_list(data) \u001b[38;5;129;01mor\u001b[39;00m _is_tuple(data):\n\u001b[0;32m   2420\u001b[0m     data \u001b[38;5;241m=\u001b[39m np\u001b[38;5;241m.\u001b[39marray(data)\n",
      "File \u001b[1;32m~\\anaconda3\\Lib\\site-packages\\xgboost\\core.py:2970\u001b[0m, in \u001b[0;36mBooster._validate_features\u001b[1;34m(self, feature_names)\u001b[0m\n\u001b[0;32m   2964\u001b[0m \u001b[38;5;28;01mif\u001b[39;00m my_missing:\n\u001b[0;32m   2965\u001b[0m     msg \u001b[38;5;241m+\u001b[39m\u001b[38;5;241m=\u001b[39m (\n\u001b[0;32m   2966\u001b[0m         \u001b[38;5;124m\"\u001b[39m\u001b[38;5;130;01m\\n\u001b[39;00m\u001b[38;5;124mtraining data did not have the following fields: \u001b[39m\u001b[38;5;124m\"\u001b[39m\n\u001b[0;32m   2967\u001b[0m         \u001b[38;5;241m+\u001b[39m \u001b[38;5;124m\"\u001b[39m\u001b[38;5;124m, \u001b[39m\u001b[38;5;124m\"\u001b[39m\u001b[38;5;241m.\u001b[39mjoin(\u001b[38;5;28mstr\u001b[39m(s) \u001b[38;5;28;01mfor\u001b[39;00m s \u001b[38;5;129;01min\u001b[39;00m my_missing)\n\u001b[0;32m   2968\u001b[0m     )\n\u001b[1;32m-> 2970\u001b[0m \u001b[38;5;28;01mraise\u001b[39;00m \u001b[38;5;167;01mValueError\u001b[39;00m(msg\u001b[38;5;241m.\u001b[39mformat(\u001b[38;5;28mself\u001b[39m\u001b[38;5;241m.\u001b[39mfeature_names, feature_names))\n",
      "\u001b[1;31mValueError\u001b[0m: feature_names mismatch: ['latitude', 'longitude', 'YEAR', 'LISA_cluster', 'Precipitation', 'LST', 'TS', 'RelaHum', 'Spechum', 'NDVI'] ['latitude', 'longitude', 'YEAR', 'Precipitation', 'LST', 'TS', 'RelaHum', 'Spechum', 'NDVI']\nexpected LISA_cluster in input data"
     ]
    }
   ],
   "source": [
    "import matplotlib.pyplot as plt\n",
    "\n",
    "# Make predictions for the forecast data\n",
    "forecast_ann = model.predict(forecast_data)\n",
    "\n",
    "# Plotting the existing ANN values and forecasted values\n",
    "plt.figure(figsize=(12, 6))\n",
    "\n",
    "# Plotting existing ANN values\n",
    "plt.scatter(merged_data['YEAR'], merged_data['ANN'], color='black', label='Existing ANN Values', marker='x')\n",
    "\n",
    "# Plotting forecasted ANN values\n",
    "plt.plot(years_forecast, forecast_ann, 'b-', label='Forecasted ANN Values')\n",
    "#plt.plot(month_forecast, forecast_ann, 'b-', label='Forecasted ANN Values')\n",
    "#plt.scatter(years_forecast, forecast_ann, 'b-', label='Forecasted ANN Values')\n",
    "\n",
    "\n",
    "# Adding labels and title\n",
    "plt.xlabel('Year')\n",
    "plt.ylabel('ANN')\n",
    "plt.title('ANN Forecast (2020-2030)')\n",
    "plt.legend()\n",
    "plt.grid()\n",
    "plt.xticks(rotation=45)\n",
    "plt.tight_layout()\n",
    "plt.show()\n",
    "\n"
   ]
  },
  {
   "cell_type": "code",
   "execution_count": 104,
   "id": "614f0b7c-026c-426c-9532-0f8b069482c1",
   "metadata": {
    "tags": []
   },
   "outputs": [
    {
     "data": {
      "text/plain": [
       "array([99.7684, 99.7684], dtype=float32)"
      ]
     },
     "execution_count": 104,
     "metadata": {},
     "output_type": "execute_result"
    }
   ],
   "source": [
    "forecast_ann.view()"
   ]
  },
  {
   "cell_type": "code",
   "execution_count": 105,
   "id": "2b7749d6-9e50-4c81-baf4-bf6ce9bda648",
   "metadata": {
    "tags": []
   },
   "outputs": [
    {
     "name": "stdout",
     "output_type": "stream",
     "text": [
      "Predicted ANN Values for the Next Five Years (Gradient Boosting Regressor):\n",
      "Year 2020: Predicted ANN = 21\n",
      "Year 2021: Predicted ANN = 23\n",
      "Year 2022: Predicted ANN = 88\n",
      "Year 2023: Predicted ANN = 88\n",
      "Year 2024: Predicted ANN = 88\n",
      "Year 2025: Predicted ANN = 88\n",
      "Year 2026: Predicted ANN = 88\n",
      "Year 2027: Predicted ANN = 88\n",
      "Year 2028: Predicted ANN = 88\n",
      "Year 2029: Predicted ANN = 88\n"
     ]
    }
   ],
   "source": [
    "from sklearn.ensemble import GradientBoostingRegressor\n",
    "import numpy as np\n",
    "import pandas as pd\n",
    "\n",
    "# Assuming merged_data contains your historical data\n",
    "# Extract 'YEAR' and 'ANN' features for training\n",
    "X_train_year = merged_data[['YEAR']].values  # Extract 'YEAR' as feature for training\n",
    "y_train_ann = merged_data['ANN'].values  # Target variable (ANN values)\n",
    "\n",
    "# Initialize the Gradient Boosting Regressor model\n",
    "gradient_boosting = GradientBoostingRegressor(n_estimators=100, random_state=42)\n",
    "\n",
    "# Train the model\n",
    "gradient_boosting.fit(X_train_year, y_train_ann)\n",
    "\n",
    "# Generate future timestamps for the next five years starting from 2020\n",
    "future_years = np.arange(2020, 2020 + 10).reshape(-1, 1)  # Next five years starting from 2020\n",
    "\n",
    "# Predict ANN values for the next five years using the trained model\n",
    "predicted_ann_future_gb = gradient_boosting.predict(future_years)\n",
    "\n",
    "# Round the predicted fire occurrences to the nearest integer\n",
    "predicted_ann_future_gb_rounded = np.round(predicted_ann_future_gb).astype(int)\n",
    "print(\"Predicted ANN Values for the Next Five Years (Gradient Boosting Regressor):\")\n",
    "for year, ann_value in zip(future_years.flatten(), predicted_ann_future_gb_rounded):\n",
    "    print(f\"Year {year}: Predicted ANN = {ann_value:.0f}\")"
   ]
  },
  {
   "cell_type": "code",
   "execution_count": 106,
   "id": "169cffd2-fd1b-4f92-b844-e82e8091d2ba",
   "metadata": {
    "tags": []
   },
   "outputs": [
    {
     "name": "stdout",
     "output_type": "stream",
     "text": [
      "Predicted ANN Values for the Next Five Years (Gradient Boosting Regressor):\n",
      "Year 2020: Predicted ANN = 21\n",
      "Year 2021: Predicted ANN = 23\n",
      "Year 2022: Predicted ANN = 88\n",
      "Year 2023: Predicted ANN = 88\n",
      "Year 2024: Predicted ANN = 88\n",
      "Year 2025: Predicted ANN = 88\n",
      "Year 2026: Predicted ANN = 88\n",
      "Year 2027: Predicted ANN = 88\n",
      "Year 2028: Predicted ANN = 88\n",
      "Year 2029: Predicted ANN = 88\n"
     ]
    }
   ],
   "source": [
    "# Round the predicted fire occurrences to the nearest integer\n",
    "predicted_ann_future_gb_rounded = np.round(predicted_ann_future_gb).astype(int)\n",
    "print(\"Predicted ANN Values for the Next Five Years (Gradient Boosting Regressor):\")\n",
    "for year, ann_value in zip(future_years.flatten(), predicted_ann_future_gb_rounded):\n",
    "    print(f\"Year {year}: Predicted ANN = {ann_value:.0f}\")"
   ]
  },
  {
   "cell_type": "code",
   "execution_count": 107,
   "id": "78952cd8-3744-499d-b06a-ae6ee7cc9f88",
   "metadata": {
    "tags": []
   },
   "outputs": [
    {
     "ename": "ValueError",
     "evalue": "all the input array dimensions except for the concatenation axis must match exactly, but along dimension 0, the array at index 0 has size 10 and the array at index 1 has size 3",
     "output_type": "error",
     "traceback": [
      "\u001b[1;31m---------------------------------------------------------------------------\u001b[0m",
      "\u001b[1;31mValueError\u001b[0m                                Traceback (most recent call last)",
      "Cell \u001b[1;32mIn[107], line 23\u001b[0m\n\u001b[0;32m     20\u001b[0m future_lisa_clusters \u001b[38;5;241m=\u001b[39m np\u001b[38;5;241m.\u001b[39marange(\u001b[38;5;241m1\u001b[39m, \u001b[38;5;241m1\u001b[39m\u001b[38;5;241m+\u001b[39m\u001b[38;5;241m3\u001b[39m)\u001b[38;5;241m.\u001b[39mreshape(\u001b[38;5;241m-\u001b[39m\u001b[38;5;241m1\u001b[39m, \u001b[38;5;241m1\u001b[39m)  \u001b[38;5;66;03m# Example random 'LISA_cluster' values for prediction\u001b[39;00m\n\u001b[0;32m     22\u001b[0m \u001b[38;5;66;03m# Concatenate future 'YEAR' and 'LISA_cluster' data for prediction\u001b[39;00m\n\u001b[1;32m---> 23\u001b[0m future_data \u001b[38;5;241m=\u001b[39m np\u001b[38;5;241m.\u001b[39mconcatenate((future_years, future_lisa_clusters), axis\u001b[38;5;241m=\u001b[39m\u001b[38;5;241m1\u001b[39m)\n\u001b[0;32m     25\u001b[0m \u001b[38;5;66;03m# Predict ANN values for the next five years using the trained model\u001b[39;00m\n\u001b[0;32m     26\u001b[0m predicted_ann_future_gb \u001b[38;5;241m=\u001b[39m gradient_boosting\u001b[38;5;241m.\u001b[39mpredict(future_data)\n",
      "File \u001b[1;32m<__array_function__ internals>:200\u001b[0m, in \u001b[0;36mconcatenate\u001b[1;34m(*args, **kwargs)\u001b[0m\n",
      "\u001b[1;31mValueError\u001b[0m: all the input array dimensions except for the concatenation axis must match exactly, but along dimension 0, the array at index 0 has size 10 and the array at index 1 has size 3"
     ]
    }
   ],
   "source": [
    "from sklearn.ensemble import GradientBoostingRegressor\n",
    "import numpy as np\n",
    "import pandas as pd\n",
    "\n",
    "# Assuming merged_data contains your historical data\n",
    "# Extract 'YEAR' and 'LISA_cluster' features for training\n",
    "X_train_year = merged_data[['YEAR', 'LISA_cluster']].values  # Extract 'YEAR' and 'LISA_cluster' as features for training\n",
    "y_train_ann = merged_data['ANN'].values  # Target variable (ANN values)\n",
    "\n",
    "# Initialize the Gradient Boosting Regressor model\n",
    "gradient_boosting = GradientBoostingRegressor(n_estimators=100, random_state=42)\n",
    "\n",
    "# Train the model\n",
    "gradient_boosting.fit(X_train_year, y_train_ann)\n",
    "\n",
    "# Generate future timestamps for the next five years starting from 2020\n",
    "future_years = np.arange(2020, 2020 + 10).reshape(-1, 1)  # Next five years starting from 2020\n",
    "\n",
    "# Assume you have future 'LISA_cluster' data as well for prediction (similar to 'YEAR')\n",
    "future_lisa_clusters = np.arange(1, 1+3).reshape(-1, 1)  # Example random 'LISA_cluster' values for prediction\n",
    "\n",
    "# Concatenate future 'YEAR' and 'LISA_cluster' data for prediction\n",
    "future_data = np.concatenate((future_years, future_lisa_clusters), axis=1)\n",
    "\n",
    "# Predict ANN values for the next five years using the trained model\n",
    "predicted_ann_future_gb = gradient_boosting.predict(future_data)\n",
    "\n",
    "# Round the predicted fire occurrences to the nearest integer\n",
    "predicted_ann_future_gb_rounded = np.round(predicted_ann_future_gb).astype(int)\n",
    "\n",
    "print(\"Predicted ANN Values for the Next Five Years (Gradient Boosting Regressor):\")\n",
    "for year, ann_value in zip(future_years.flatten(), predicted_ann_future_gb_rounded):\n",
    "    print(f\"Year {year}: Predicted ANN = {ann_value}\")\n"
   ]
  },
  {
   "cell_type": "code",
   "execution_count": 108,
   "id": "f7056129-2648-4e5e-90ec-7bbb47e04f0b",
   "metadata": {
    "tags": []
   },
   "outputs": [
    {
     "name": "stdout",
     "output_type": "stream",
     "text": [
      "Predicted ANN Values for the Next Ten Years (Gradient Boosting Regressor):\n",
      "Year 2020: Predicted ANN = 21\n",
      "Year 2021: Predicted ANN = 22\n",
      "Year 2022: Predicted ANN = 88\n",
      "Year 2023: Predicted ANN = 88\n",
      "Year 2024: Predicted ANN = 88\n",
      "Year 2025: Predicted ANN = 88\n",
      "Year 2026: Predicted ANN = 88\n",
      "Year 2027: Predicted ANN = 88\n",
      "Year 2028: Predicted ANN = 88\n",
      "Year 2029: Predicted ANN = 88\n"
     ]
    }
   ],
   "source": [
    "from sklearn.ensemble import GradientBoostingRegressor\n",
    "import numpy as np\n",
    "\n",
    "# Assuming merged_data contains your historical data\n",
    "# Extract 'YEAR' and 'LISA_cluster' features for training\n",
    "X_train_year = merged_data[['YEAR', 'LISA_cluster']].values  # Extract 'YEAR' and 'LISA_cluster' as features for training\n",
    "y_train_ann = merged_data['ANN'].values  # Target variable (ANN values)\n",
    "\n",
    "# Initialize the Gradient Boosting Regressor model\n",
    "gradient_boosting = GradientBoostingRegressor(n_estimators=100, random_state=42)\n",
    "\n",
    "# Train the model\n",
    "gradient_boosting.fit(X_train_year, y_train_ann)\n",
    "\n",
    "# Generate future timestamps for the next five years starting from 2020\n",
    "future_years = np.arange(2020, 2020 + 10).reshape(-1, 1)  # Next ten years starting from 2020\n",
    "\n",
    "# Assume you have future 'LISA_cluster' data as well for prediction (similar to 'YEAR')\n",
    "future_lisa_clusters = np.tile(np.arange(1, 1 + 4), (len(future_years) // 4 + 1))[:len(future_years)]\n",
    "\n",
    "# Concatenate future 'YEAR' and 'LISA_cluster' data for prediction\n",
    "future_data = np.concatenate((future_years, future_lisa_clusters[:, np.newaxis]), axis=1)\n",
    "\n",
    "# Predict ANN values for the next ten years using the trained model\n",
    "predicted_ann_future_gb = gradient_boosting.predict(future_data)\n",
    "\n",
    "# Round the predicted ANN values to the nearest integer\n",
    "predicted_ann_future_gb_rounded = np.round(predicted_ann_future_gb).astype(int)\n",
    "\n",
    "print(\"Predicted ANN Values for the Next Ten Years (Gradient Boosting Regressor):\")\n",
    "for year, ann_value in zip(future_years.flatten(), predicted_ann_future_gb_rounded):\n",
    "    print(f\"Year {year}: Predicted ANN = {ann_value}\")\n"
   ]
  },
  {
   "cell_type": "code",
   "execution_count": null,
   "id": "f7b303d6-6772-49ce-a232-af315082bddf",
   "metadata": {},
   "outputs": [],
   "source": []
  },
  {
   "cell_type": "code",
   "execution_count": null,
   "id": "f8dfb578-38d0-4954-968a-020ca6afde4b",
   "metadata": {},
   "outputs": [],
   "source": []
  },
  {
   "cell_type": "code",
   "execution_count": null,
   "id": "f9fadbbb-293f-4538-aaa6-794f32e7507d",
   "metadata": {},
   "outputs": [],
   "source": []
  },
  {
   "cell_type": "code",
   "execution_count": null,
   "id": "90cf2001-83c7-4bde-9aa8-798575a9f898",
   "metadata": {},
   "outputs": [],
   "source": []
  },
  {
   "cell_type": "code",
   "execution_count": 109,
   "id": "3ea03ca8-12d6-4d3d-81bc-431c8b1a9e4c",
   "metadata": {
    "tags": []
   },
   "outputs": [
    {
     "data": {
      "image/png": "[encoded data removed]",
      "text/plain": [
       "<Figure size 640x480 with 1 Axes>"
      ]
     },
     "metadata": {},
     "output_type": "display_data"
    }
   ],
   "source": [
    "import xgboost as xgb\n",
    "from sklearn.metrics import mean_squared_error\n",
    "import matplotlib.pyplot as plt\n",
    "\n",
    "n_estimators = [1, 2, 4, 8, 16, 32, 64, 100, 200]\n",
    "train_mse_results = []\n",
    "test_mse_results = []\n",
    "\n",
    "for estimator in n_estimators:\n",
    "    xgb_model = xgb.XGBRegressor(n_estimators=estimator)\n",
    "    xgb_model.fit(X_train, y_train)\n",
    "    \n",
    "    train_pred = xgb_model.predict(X_train)\n",
    "    train_mse = mean_squared_error(y_train, train_pred)\n",
    "    train_mse_results.append(train_mse)\n",
    "    \n",
    "    test_pred = xgb_model.predict(X_test)\n",
    "    test_mse = mean_squared_error(y_test, test_pred)\n",
    "    test_mse_results.append(test_mse)\n",
    "\n",
    "plt.plot(n_estimators, train_mse_results, \"b\", label=\"Train MSE\")\n",
    "plt.plot(n_estimators, test_mse_results, \"r\", label=\"Test MSE\")\n",
    "plt.legend()\n",
    "plt.ylabel(\"MSE score\")\n",
    "plt.xlabel(\"n_estimators\")\n",
    "plt.title(\"MSE vs n_estimators for XGBoost Regressor\")\n",
    "plt.grid()\n",
    "plt.show()\n"
   ]
  },
  {
   "cell_type": "code",
   "execution_count": 110,
   "id": "8876d3ad-19e3-4efd-aea5-186aabbcbd84",
   "metadata": {
    "tags": []
   },
   "outputs": [
    {
     "name": "stdout",
     "output_type": "stream",
     "text": [
      "Estimators: 1, Train MSE: 2679.1747402042606, Test MSE: 2677.447217477737\n",
      "Estimators: 2, Train MSE: 1313.1892159908234, Test MSE: 1312.338420949378\n",
      "Estimators: 4, Train MSE: 315.29809662322947, Test MSE: 315.0938188340833\n",
      "Estimators: 8, Train MSE: 18.17647276213759, Test MSE: 18.164696308054346\n",
      "Estimators: 16, Train MSE: 0.06040793881958411, Test MSE: 0.06036880007570744\n",
      "Estimators: 32, Train MSE: 6.741123212089705e-07, Test MSE: 6.736658375346796e-07\n",
      "Estimators: 64, Train MSE: 9.723778973826632e-11, Test MSE: 9.720120379347622e-11\n",
      "Estimators: 100, Train MSE: 9.723778973826632e-11, Test MSE: 9.720120379347622e-11\n",
      "Estimators: 200, Train MSE: 9.723778973826632e-11, Test MSE: 9.720120379347622e-11\n"
     ]
    },
    {
     "data": {
      "image/png": "[encoded data removed]",
      "text/plain": [
       "<Figure size 640x480 with 1 Axes>"
      ]
     },
     "metadata": {},
     "output_type": "display_data"
    }
   ],
   "source": [
    "import xgboost as xgb\n",
    "from sklearn.metrics import mean_squared_error\n",
    "import matplotlib.pyplot as plt\n",
    "\n",
    "n_estimators = [1, 2, 4, 8, 16, 32, 64, 100, 200]\n",
    "train_mse_results = []\n",
    "test_mse_results = []\n",
    "\n",
    "for estimator in n_estimators:\n",
    "    xgb_model = xgb.XGBRegressor(n_estimators=estimator)\n",
    "    xgb_model.fit(X_train, y_train)\n",
    "    \n",
    "    train_pred = xgb_model.predict(X_train)\n",
    "    train_mse = mean_squared_error(y_train, train_pred)\n",
    "    train_mse_results.append(train_mse)\n",
    "    \n",
    "    test_pred = xgb_model.predict(X_test)\n",
    "    test_mse = mean_squared_error(y_test, test_pred)\n",
    "    test_mse_results.append(test_mse)\n",
    "\n",
    "    print(f\"Estimators: {estimator}, Train MSE: {train_mse}, Test MSE: {test_mse}\")\n",
    "\n",
    "plt.plot(n_estimators, train_mse_results, \"b\", label=\"Train MSE\")\n",
    "#plt.plot(n_estimators, test_mse_results, \"r\", label=\"Test MSE\")\n",
    "plt.legend()\n",
    "plt.ylabel(\"MSE score\")\n",
    "plt.xlabel(\"n_estimators\")\n",
    "plt.title(\"MSE vs n_estimators for XGBoost Regressor\")\n",
    "plt.grid()\n",
    "plt.show()\n"
   ]
  },
  {
   "cell_type": "code",
   "execution_count": 111,
   "id": "f222069f-ff68-456c-8d6e-2c665a4780fa",
   "metadata": {
    "tags": []
   },
   "outputs": [
    {
     "data": {
      "text/plain": [
       "<Figure size 1000x600 with 0 Axes>"
      ]
     },
     "metadata": {},
     "output_type": "display_data"
    },
    {
     "data": {
      "image/png": "[encoded data removed]",
      "text/plain": [
       "<Figure size 640x480 with 1 Axes>"
      ]
     },
     "metadata": {},
     "output_type": "display_data"
    }
   ],
   "source": [
    "# Plot feature importances\n",
    "plt.figure(figsize=(10, 6))\n",
    "xgb.plot_importance(model)\n",
    "plt.show()\n"
   ]
  },
  {
   "cell_type": "code",
   "execution_count": null,
   "id": "e11db556-617f-4d08-9a4b-e3b9a41d8c3b",
   "metadata": {},
   "outputs": [],
   "source": []
  },
  {
   "cell_type": "code",
   "execution_count": null,
   "id": "8ce8d6ce-bbda-41a9-a438-5d5ab0eb9a68",
   "metadata": {},
   "outputs": [],
   "source": []
  },
  {
   "cell_type": "code",
   "execution_count": 112,
   "id": "4327e973-727f-4d34-ba90-3577f6bb8880",
   "metadata": {
    "tags": []
   },
   "outputs": [
    {
     "data": {
      "image/png": "[encoded data removed]",
      "text/plain": [
       "<Figure size 700x400 with 1 Axes>"
      ]
     },
     "metadata": {},
     "output_type": "display_data"
    },
    {
     "data": {
      "image/png": "[encoded data removed]",
      "text/plain": [
       "<Figure size 1000x600 with 1 Axes>"
      ]
     },
     "metadata": {},
     "output_type": "display_data"
    }
   ],
   "source": [
    "import matplotlib.pyplot as plt\n",
    "\n",
    "# Plotting actual vs predicted values\n",
    "plt.figure(figsize=(7, 4))\n",
    "plt.scatter(y_test, y_pred, color='blue', label='Predicted')\n",
    "plt.plot([y_test.min(), y_test.max()], [y_test.min(), y_test.max()], color='red', linestyle='--', label='Actual')\n",
    "plt.xlabel('Actual')\n",
    "plt.ylabel('Predicted')\n",
    "plt.title('Actual vs Predicted Values')\n",
    "plt.legend()\n",
    "plt.show()\n",
    "\n"
   ]
  },
  {
   "cell_type": "code",
   "execution_count": null,
   "id": "fc6c6b91-6788-4385-a5c5-a2ef24ddb31d",
   "metadata": {},
   "outputs": [],
   "source": []
  },
  {
   "cell_type": "code",
   "execution_count": null,
   "id": "b1ebd557-a852-486f-b4ad-800b1546212b",
   "metadata": {},
   "outputs": [],
   "source": []
  },
  {
   "cell_type": "code",
   "execution_count": null,
   "id": "57a02bd0-6604-4dda-b3d4-1aa884cc8dc0",
   "metadata": {},
   "outputs": [],
   "source": []
  },
  {
   "cell_type": "code",
   "execution_count": null,
   "id": "bbe18e66-1678-4616-823b-8b9083ebb438",
   "metadata": {},
   "outputs": [],
   "source": []
  },
  {
   "cell_type": "code",
   "execution_count": null,
   "id": "a7526e33-a29d-4a77-b234-a07ab8338db4",
   "metadata": {},
   "outputs": [],
   "source": []
  },
  {
   "cell_type": "code",
   "execution_count": null,
   "id": "96528c5e-768e-40f9-a93e-528fcfa695e3",
   "metadata": {},
   "outputs": [],
   "source": []
  },
  {
   "cell_type": "code",
   "execution_count": 114,
   "id": "273a3e0d-1216-470e-af48-415236511b67",
   "metadata": {
    "tags": []
   },
   "outputs": [
    {
     "data": {
      "image/png": "[encoded data removed]",
      "text/plain": [
       "<Figure size 1000x600 with 1 Axes>"
      ]
     },
     "metadata": {},
     "output_type": "display_data"
    },
    {
     "data": {
      "image/png": "[encoded data removed]",
      "text/plain": [
       "<Figure size 1000x600 with 1 Axes>"
      ]
     },
     "metadata": {},
     "output_type": "display_data"
    }
   ],
   "source": [
    "import matplotlib.pyplot as plt\n",
    "\n",
    "# Assuming you have a list or array of RMSE values for different experiments or iterations\n",
    "rmse_values = [0.33522982244123617]  # Replace [...] with your actual RMSE values\n",
    "mse_values = [0.08639279816508214]   # Replace [...] with your actual MSE values\n",
    "\n",
    "#fig,ax = plt.subplots( figsize=(12, 10))\n",
    "\n",
    "\n",
    "# Plotting RMSE\n",
    "plt.figure(figsize=(10, 6))\n",
    "plt.plot(range(1, len(rmse_values) + 1), rmse_values, marker='o', color='blue', linestyle='-')\n",
    "plt.xlabel('Experiment/Iteration')\n",
    "plt.ylabel('RMSE')\n",
    "plt.title('RMSE over Experiments/Iterations')\n",
    "plt.grid(True)\n",
    "plt.show()\n",
    "\n",
    "# Plotting MSE\n",
    "plt.figure(figsize=(10, 6))\n",
    "plt.plot(range(1, len(mse_values) + 1), mse_values, marker='o', color='green', linestyle='-')\n",
    "plt.xlabel('Experiment/Iteration')\n",
    "plt.ylabel('MSE')\n",
    "plt.title('MSE over Experiments/Iterations')\n",
    "plt.grid(True)\n",
    "plt.show()\n"
   ]
  },
  {
   "cell_type": "code",
   "execution_count": 115,
   "id": "46b407f4-2ef8-478a-8504-ca159ca6beda",
   "metadata": {},
   "outputs": [
    {
     "name": "stderr",
     "output_type": "stream",
     "text": [
      "C:\\Users\\DANIEL\\AppData\\Local\\Temp\\ipykernel_1756\\2517428822.py:14: FutureWarning: The geopandas.dataset module is deprecated and will be removed in GeoPandas 1.0. You can get the original 'naturalearth_lowres' data from https://www.naturalearthdata.com/downloads/110m-cultural-vectors/.\n",
      "  world = gpd.read_file(gpd.datasets.get_path('naturalearth_lowres'))\n"
     ]
    },
    {
     "data": {
      "image/png": "[encoded data removed]",
      "text/plain": [
       "<Figure size 500x600 with 1 Axes>"
      ]
     },
     "metadata": {},
     "output_type": "display_data"
    }
   ],
   "source": [
    "import geopandas as gpd\n",
    "import matplotlib.pyplot as plt\n",
    "\n",
    "# Assuming you have fire data in a DataFrame named 'fire_data'\n",
    "# Assuming you have weather data in a DataFrame named 'weather_data'\n",
    "# Load your shapefile of the region\n",
    "region_shapefile = 'True_forest.shp'\n",
    "region = gpd.read_file(region_shapefile)\n",
    "\n",
    "# Convert fire_data to GeoDataFrame\n",
    "gdf_fire = gpd.GeoDataFrame(fire_data, geometry=gpd.points_from_xy(fire_data.longitude, fire_data.latitude))\n",
    "\n",
    "# Create base map using geopandas\n",
    "world = gpd.read_file(gpd.datasets.get_path('naturalearth_lowres'))\n",
    "\n",
    "# Plot the base map\n",
    "ax = region.plot(figsize=(5, 6), color='white', edgecolor='gray')\n",
    "\n",
    "# Plot fires on the map\n",
    "gdf_fire.plot(ax=ax, color='red', markersize=5, label='Fire Locations')\n",
    "\n",
    "# Add legend\n",
    "plt.legend()\n",
    "\n",
    "# Add title and labels\n",
    "plt.title('Fire Locations')\n",
    "plt.xlabel('Longitude')\n",
    "plt.ylabel('Latitude')\n",
    "\n",
    "# Show the plot\n",
    "plt.show()\n"
   ]
  },
  {
   "cell_type": "code",
   "execution_count": null,
   "id": "e55026df-e42c-478d-a38f-8ff6a1b38c9b",
   "metadata": {},
   "outputs": [],
   "source": []
  },
  {
   "cell_type": "code",
   "execution_count": 117,
   "id": "b56faf8b-1d9e-4a20-80ee-1c010284580c",
   "metadata": {
    "tags": []
   },
   "outputs": [],
   "source": [
    "import joblib\n",
    "import xgboost as xgb"
   ]
  },
  {
   "cell_type": "code",
   "execution_count": 118,
   "id": "d5bc26e1-c6e2-47ff-bf64-8419bd4f2d5a",
   "metadata": {
    "tags": []
   },
   "outputs": [
    {
     "data": {
      "text/plain": [
       "['xgb_model.joblib']"
      ]
     },
     "execution_count": 118,
     "metadata": {},
     "output_type": "execute_result"
    }
   ],
   "source": [
    "joblib.dump(model, 'xgb_model.joblib')"
   ]
  },
  {
   "cell_type": "code",
   "execution_count": 119,
   "id": "db35bc92-4bf0-4d96-8a07-74d3280f2c26",
   "metadata": {
    "tags": []
   },
   "outputs": [],
   "source": [
    "# Load the model from the file\n",
    "loaded_model = joblib.load('xgb_model.joblib')"
   ]
  },
  {
   "cell_type": "code",
   "execution_count": 125,
   "id": "b2d6b52b-b066-4531-821c-f5a76e66625f",
   "metadata": {
    "tags": []
   },
   "outputs": [],
   "source": [
    "import pickle\n",
    "import xgboost as xgb\n",
    "\n",
    "# Define the model\n",
    "model = xgb.XGBRegressor(n_estimators=100, max_depth=3, learning_rate=0.1)\n",
    "\n",
    "# Train the model (assuming you have X_train and y_train)\n",
    "# model.fit(X_train, y_train)\n",
    "\n",
    "# Save the model to a file\n",
    "with open('xgb_model.pkl', 'wb') as file:\n",
    "    pickle.dump(model, file)\n",
    "\n",
    "    \n",
    "# Load the model from the file\n",
    "with open('xgb_model.pkl', 'rb') as file:\n",
    "    loaded_model = pickle.load(file)\n",
    "\n",
    "# Use the loaded model to make predictions (assuming you have X_test)\n",
    "#predictions = loaded_model.predict(X_test)\n"
   ]
  },
  {
   "cell_type": "code",
   "execution_count": 130,
   "id": "42c7828e-324c-4051-944d-607e93b70f4a",
   "metadata": {
    "tags": []
   },
   "outputs": [
    {
     "name": "stdout",
     "output_type": "stream",
     "text": [
      "Requirement already satisfied: Flask in c:\\users\\daniel\\anaconda3\\lib\\site-packages (2.2.2)\n",
      "Requirement already satisfied: Werkzeug>=2.2.2 in c:\\users\\daniel\\anaconda3\\lib\\site-packages (from Flask) (2.2.3)\n",
      "Requirement already satisfied: Jinja2>=3.0 in c:\\users\\daniel\\anaconda3\\lib\\site-packages (from Flask) (3.1.2)\n",
      "Requirement already satisfied: itsdangerous>=2.0 in c:\\users\\daniel\\anaconda3\\lib\\site-packages (from Flask) (2.0.1)\n",
      "Requirement already satisfied: click>=8.0 in c:\\users\\daniel\\anaconda3\\lib\\site-packages (from Flask) (8.0.4)\n",
      "Requirement already satisfied: colorama in c:\\users\\daniel\\anaconda3\\lib\\site-packages (from click>=8.0->Flask) (0.4.6)\n",
      "Requirement already satisfied: MarkupSafe>=2.0 in c:\\users\\daniel\\anaconda3\\lib\\site-packages (from Jinja2>=3.0->Flask) (2.1.1)\n",
      "Note: you may need to restart the kernel to use updated packages.\n"
     ]
    }
   ],
   "source": [
    "pip install Flask\n"
   ]
  },
  {
   "cell_type": "code",
   "execution_count": 131,
   "id": "e47bb2d4-21b9-4f24-b86e-7e0c65d962d2",
   "metadata": {
    "tags": []
   },
   "outputs": [
    {
     "name": "stdout",
     "output_type": "stream",
     "text": [
      " * Serving Flask app '__main__'\n",
      " * Debug mode: on\n"
     ]
    },
    {
     "name": "stderr",
     "output_type": "stream",
     "text": [
      "WARNING: This is a development server. Do not use it in a production deployment. Use a production WSGI server instead.\n",
      " * Running on http://127.0.0.1:5000\n",
      "Press CTRL+C to quit\n",
      " * Restarting with watchdog (windowsapi)\n"
     ]
    },
    {
     "ename": "SystemExit",
     "evalue": "1",
     "output_type": "error",
     "traceback": [
      "An exception has occurred, use %tb to see the full traceback.\n",
      "\u001b[1;31mSystemExit\u001b[0m\u001b[1;31m:\u001b[0m 1\n"
     ]
    }
   ],
   "source": [
    "from flask import Flask, render_template, request\n",
    "import pickle\n",
    "\n",
    "app = Flask(__name__)\n",
    "\n",
    "# Load the location classifier model\n",
    "with open('xgb_model.pkl', 'rb') as f:\n",
    "    location_classifier = pickle.load(f)\n",
    "\n",
    "@app.route('/', methods=['GET', 'POST'])\n",
    "def index():\n",
    "    if request.method == 'POST':\n",
    "        # Extract user inputs from the form\n",
    "        user_latitude = float(request.form['latitude'])\n",
    "        user_longitude = float(request.form['longitude'])\n",
    "        user_year = int(request.form['year'])\n",
    "        user_lisa_cluster = float(request.form['LISA_cluster'])\n",
    "        user_precipitation = float(request.form['precipitation'])\n",
    "        user_lst = float(request.form['LST'])\n",
    "        user_ts = float(request.form['TS'])\n",
    "        user_relahum = float(request.form['RelaHum'])\n",
    "        user_spechum = float(request.form['Spechum'])\n",
    "        user_ndvi = float(request.form['NDVI'])\n",
    "        \n",
    "        # Combine the inputs into a single list\n",
    "        user_inputs = [[user_latitude, user_longitude, user_year, user_lisa_cluster, user_precipitation, user_lst, user_ts, user_relahum, user_spechum, user_ndvi]]\n",
    "        \n",
    "        # Make predictions using the location classifier model\n",
    "        location_prediction = location_classifier.predict(user_inputs)\n",
    "\n",
    "        # Render the results page with predictions\n",
    "        return render_template('result.html', location_prediction=location_prediction[0])\n",
    "\n",
    "    # Render the input form\n",
    "    return render_template('index.html')\n",
    "\n",
    "if __name__ == '__main__':\n",
    "    app.run(debug=True)\n"
   ]
  },
  {
   "cell_type": "code",
   "execution_count": 132,
   "id": "2036a5d1-4d6d-4ab1-afee-bc4fbd25d69a",
   "metadata": {
    "tags": []
   },
   "outputs": [
    {
     "name": "stdout",
     "output_type": "stream",
     "text": [
      " * Serving Flask app '__main__'\n",
      " * Debug mode: on\n"
     ]
    },
    {
     "name": "stderr",
     "output_type": "stream",
     "text": [
      "WARNING: This is a development server. Do not use it in a production deployment. Use a production WSGI server instead.\n",
      " * Running on http://127.0.0.1:5000\n",
      "Press CTRL+C to quit\n",
      " * Restarting with watchdog (windowsapi)\n"
     ]
    },
    {
     "ename": "SystemExit",
     "evalue": "1",
     "output_type": "error",
     "traceback": [
      "An exception has occurred, use %tb to see the full traceback.\n",
      "\u001b[1;31mSystemExit\u001b[0m\u001b[1;31m:\u001b[0m 1\n"
     ]
    }
   ],
   "source": [
    "from flask import Flask, render_template, request\n",
    "import pickle\n",
    "\n",
    "app = Flask(__name__)\n",
    "\n",
    "try:\n",
    "    # Load the location classifier model\n",
    "    with open('xgb_model.pkl', 'rb')as f:\n",
    "        location_classifier = pickle.load(f)\n",
    "except Exception as e:\n",
    "    print(f\"Error loading model: {e}\")\n",
    "    exit(1)\n",
    "\n",
    "@app.route('/', methods=['GET', 'POST'])\n",
    "def index():\n",
    "    if request.method == 'POST':\n",
    "        try:\n",
    "            # Extract user inputs from the form\n",
    "            user_latitude = float(request.form['latitude'])\n",
    "            user_longitude = float(request.form['longitude'])\n",
    "            user_year = int(request.form['year'])\n",
    "            user_lisa_cluster = float(request.form['LISA_cluster'])\n",
    "            user_precipitation = float(request.form['precipitation'])\n",
    "            user_lst = float(request.form['LST'])\n",
    "            user_ts = float(request.form['TS'])\n",
    "            user_relahum = float(request.form['RelaHum'])\n",
    "            user_spechum = float(request.form['Spechum'])\n",
    "            user_ndvi = float(request.form['NDVI'])\n",
    "\n",
    "            # Combine the inputs into a single list\n",
    "            user_inputs = [[user_latitude, user_longitude, user_year, user_lisa_cluster, user_precipitation, user_lst, user_ts, user_relahum, user_spechum, user_ndvi]]\n",
    "\n",
    "            # Make predictions using the location classifier model\n",
    "            location_prediction = location_classifier.predict(user_inputs)\n",
    "\n",
    "            # Render the results page with predictions\n",
    "            return render_template('result.html', location_prediction=location_prediction[0])\n",
    "        except Exception as e:\n",
    "            print(f\"Error during prediction: {e}\")\n",
    "            return render_template('index.html', error=str(e))\n",
    "\n",
    "    # Render the input form\n",
    "    return render_template('index.html')\n",
    "\n",
    "if __name__ == '__main__':\n",
    "    app.run(debug=True)\n"
   ]
  },
  {
   "cell_type": "code",
   "execution_count": 135,
   "id": "9da404e5-3778-4158-9b06-489aa85e2af1",
   "metadata": {
    "tags": []
   },
   "outputs": [
    {
     "name": "stdout",
     "output_type": "stream",
     "text": [
      "Collecting waitress\n",
      "  Obtaining dependency information for waitress from https://files.pythonhosted.org/packages/5b/a9/485c953a1ac4cb98c28e41fd2c7184072df36bbf99734a51d44d04176878/waitress-3.0.0-py3-none-any.whl.metadata\n",
      "  Downloading waitress-3.0.0-py3-none-any.whl.metadata (4.2 kB)\n",
      "Downloading waitress-3.0.0-py3-none-any.whl (56 kB)\n",
      "   ---------------------------------------- 0.0/56.7 kB ? eta -:--:--\n",
      "   ---------------------------------------- 0.0/56.7 kB ? eta -:--:--\n",
      "   ------- -------------------------------- 10.2/56.7 kB ? eta -:--:--\n",
      "   -------------- ------------------------- 20.5/56.7 kB 131.3 kB/s eta 0:00:01\n",
      "   -------------- ------------------------- 20.5/56.7 kB 131.3 kB/s eta 0:00:01\n",
      "   --------------------- ------------------ 30.7/56.7 kB 131.3 kB/s eta 0:00:01\n",
      "   ---------------------------- ----------- 41.0/56.7 kB 164.3 kB/s eta 0:00:01\n",
      "   ---------------------------------------- 56.7/56.7 kB 175.3 kB/s eta 0:00:00\n",
      "Installing collected packages: waitress\n",
      "Successfully installed waitress-3.0.0\n",
      "Note: you may need to restart the kernel to use updated packages.\n"
     ]
    }
   ],
   "source": [
    "pip install waitress\n"
   ]
  },
  {
   "cell_type": "code",
   "execution_count": null,
   "id": "c9e88e4a-9b33-473f-aa74-0a0d149604ee",
   "metadata": {},
   "outputs": [],
   "source": []
  },
  {
   "cell_type": "code",
   "execution_count": null,
   "id": "fceebaf2-fa1d-4353-a240-04f416b79a51",
   "metadata": {},
   "outputs": [],
   "source": []
  },
  {
   "cell_type": "code",
   "execution_count": null,
   "id": "bec226ce-4cc4-4df9-ba14-fbc0e1b67e10",
   "metadata": {},
   "outputs": [],
   "source": []
  },
  {
   "cell_type": "code",
   "execution_count": null,
   "id": "424f191a-af1c-4a1b-b069-087ad7c03ece",
   "metadata": {},
   "outputs": [],
   "source": []
  },
  {
   "cell_type": "code",
   "execution_count": null,
   "id": "500a5fd5-2773-44ef-8423-b0fa02f133eb",
   "metadata": {},
   "outputs": [],
   "source": []
  },
  {
   "cell_type": "code",
   "execution_count": null,
   "id": "15045946-482a-4409-8cc2-39e7725e315b",
   "metadata": {},
   "outputs": [],
   "source": []
  },
  {
   "cell_type": "code",
   "execution_count": null,
   "id": "817eb649-f0d2-4cd1-abbb-5a29a4be8132",
   "metadata": {},
   "outputs": [],
   "source": []
  },
  {
   "cell_type": "code",
   "execution_count": null,
   "id": "83abec3a-586e-45db-abb4-f1e220e331f4",
   "metadata": {},
   "outputs": [],
   "source": []
  },
  {
   "cell_type": "code",
   "execution_count": null,
   "id": "d5c0e238-ab93-463a-b1b5-6dd358ef3490",
   "metadata": {},
   "outputs": [],
   "source": []
  },
  {
   "cell_type": "code",
   "execution_count": null,
   "id": "f647af9a-82ce-4de8-80f1-a7e8852da27e",
   "metadata": {},
   "outputs": [],
   "source": []
  },
  {
   "cell_type": "code",
   "execution_count": null,
   "id": "49e75410-2284-4e92-8a7a-19ea555dc813",
   "metadata": {},
   "outputs": [],
   "source": []
  },
  {
   "cell_type": "code",
   "execution_count": null,
   "id": "fd61832d-611f-42dc-96e0-728ae2275a81",
   "metadata": {},
   "outputs": [],
   "source": []
  },
  {
   "cell_type": "code",
   "execution_count": null,
   "id": "b843fd00-1c04-4228-bacb-0a40e63486a3",
   "metadata": {},
   "outputs": [],
   "source": []
  },
  {
   "cell_type": "code",
   "execution_count": null,
   "id": "501852fe-91d6-4a98-bf84-4bb796ba4770",
   "metadata": {},
   "outputs": [],
   "source": []
  },
  {
   "cell_type": "code",
   "execution_count": 2,
   "id": "b97f03e2-a5de-4eab-8f6f-955690aaab39",
   "metadata": {
    "tags": []
   },
   "outputs": [
    {
     "data": {
      "text/html": [
       "<div>\n",
       "<style scoped>\n",
       "    .dataframe tbody tr th:only-of-type {\n",
       "        vertical-align: middle;\n",
       "    }\n",
       "\n",
       "    .dataframe tbody tr th {\n",
       "        vertical-align: top;\n",
       "    }\n",
       "\n",
       "    .dataframe thead th {\n",
       "        text-align: right;\n",
       "    }\n",
       "</style>\n",
       "<table border=\"1\" class=\"dataframe\">\n",
       "  <thead>\n",
       "    <tr style=\"text-align: right;\">\n",
       "      <th></th>\n",
       "      <th>latitude</th>\n",
       "      <th>longitude</th>\n",
       "      <th>acq_time</th>\n",
       "      <th>YEAR</th>\n",
       "      <th>month</th>\n",
       "      <th>day</th>\n",
       "      <th>ANN</th>\n",
       "      <th>LISA_cluster</th>\n",
       "    </tr>\n",
       "  </thead>\n",
       "  <tbody>\n",
       "    <tr>\n",
       "      <th>0</th>\n",
       "      <td>0.2122</td>\n",
       "      <td>37.7333</td>\n",
       "      <td>801</td>\n",
       "      <td>2001</td>\n",
       "      <td>8</td>\n",
       "      <td>11</td>\n",
       "      <td>21</td>\n",
       "      <td>4</td>\n",
       "    </tr>\n",
       "    <tr>\n",
       "      <th>1</th>\n",
       "      <td>0.1272</td>\n",
       "      <td>37.5555</td>\n",
       "      <td>2023</td>\n",
       "      <td>2001</td>\n",
       "      <td>8</td>\n",
       "      <td>11</td>\n",
       "      <td>21</td>\n",
       "      <td>2</td>\n",
       "    </tr>\n",
       "    <tr>\n",
       "      <th>2</th>\n",
       "      <td>-0.0990</td>\n",
       "      <td>37.4320</td>\n",
       "      <td>843</td>\n",
       "      <td>2001</td>\n",
       "      <td>9</td>\n",
       "      <td>13</td>\n",
       "      <td>21</td>\n",
       "      <td>2</td>\n",
       "    </tr>\n",
       "    <tr>\n",
       "      <th>3</th>\n",
       "      <td>-0.1280</td>\n",
       "      <td>37.4616</td>\n",
       "      <td>843</td>\n",
       "      <td>2001</td>\n",
       "      <td>9</td>\n",
       "      <td>13</td>\n",
       "      <td>21</td>\n",
       "      <td>3</td>\n",
       "    </tr>\n",
       "    <tr>\n",
       "      <th>4</th>\n",
       "      <td>-0.1350</td>\n",
       "      <td>37.4570</td>\n",
       "      <td>843</td>\n",
       "      <td>2001</td>\n",
       "      <td>9</td>\n",
       "      <td>13</td>\n",
       "      <td>21</td>\n",
       "      <td>3</td>\n",
       "    </tr>\n",
       "  </tbody>\n",
       "</table>\n",
       "</div>"
      ],
      "text/plain": [
       "   latitude  longitude  acq_time  YEAR  month  day  ANN  LISA_cluster\n",
       "0    0.2122    37.7333       801  2001      8   11   21             4\n",
       "1    0.1272    37.5555      2023  2001      8   11   21             2\n",
       "2   -0.0990    37.4320       843  2001      9   13   21             2\n",
       "3   -0.1280    37.4616       843  2001      9   13   21             3\n",
       "4   -0.1350    37.4570       843  2001      9   13   21             3"
      ]
     },
     "execution_count": 2,
     "metadata": {},
     "output_type": "execute_result"
    }
   ],
   "source": [
    "import pandas as pd\n",
    "\n",
    "fire_data = pd.read_csv('classified_data2.csv')\n",
    "fire_data.head()\n"
   ]
  },
  {
   "cell_type": "code",
   "execution_count": 3,
   "id": "a9bf7da9-a67c-4de9-9626-84c0fd45807c",
   "metadata": {
    "tags": []
   },
   "outputs": [
    {
     "data": {
      "text/html": [
       "<div>\n",
       "<style scoped>\n",
       "    .dataframe tbody tr th:only-of-type {\n",
       "        vertical-align: middle;\n",
       "    }\n",
       "\n",
       "    .dataframe tbody tr th {\n",
       "        vertical-align: top;\n",
       "    }\n",
       "\n",
       "    .dataframe thead th {\n",
       "        text-align: right;\n",
       "    }\n",
       "</style>\n",
       "<table border=\"1\" class=\"dataframe\">\n",
       "  <thead>\n",
       "    <tr style=\"text-align: right;\">\n",
       "      <th></th>\n",
       "      <th>latitude</th>\n",
       "      <th>longitude</th>\n",
       "      <th>acq_time</th>\n",
       "      <th>YEAR</th>\n",
       "      <th>month</th>\n",
       "      <th>day</th>\n",
       "      <th>ANN</th>\n",
       "      <th>LISA_cluster</th>\n",
       "      <th>Precipitation</th>\n",
       "      <th>LST</th>\n",
       "      <th>TS</th>\n",
       "      <th>RelaHum</th>\n",
       "      <th>Spechum</th>\n",
       "      <th>NDVI</th>\n",
       "    </tr>\n",
       "  </thead>\n",
       "  <tbody>\n",
       "    <tr>\n",
       "      <th>0</th>\n",
       "      <td>0.2122</td>\n",
       "      <td>37.7333</td>\n",
       "      <td>801</td>\n",
       "      <td>2001</td>\n",
       "      <td>8</td>\n",
       "      <td>11</td>\n",
       "      <td>21</td>\n",
       "      <td>4</td>\n",
       "      <td>5.27</td>\n",
       "      <td>18.64</td>\n",
       "      <td>18.69</td>\n",
       "      <td>72.75</td>\n",
       "      <td>10.74</td>\n",
       "      <td>0.514756</td>\n",
       "    </tr>\n",
       "    <tr>\n",
       "      <th>1</th>\n",
       "      <td>0.2122</td>\n",
       "      <td>37.7333</td>\n",
       "      <td>801</td>\n",
       "      <td>2001</td>\n",
       "      <td>8</td>\n",
       "      <td>11</td>\n",
       "      <td>21</td>\n",
       "      <td>4</td>\n",
       "      <td>5.27</td>\n",
       "      <td>18.64</td>\n",
       "      <td>18.69</td>\n",
       "      <td>72.75</td>\n",
       "      <td>10.74</td>\n",
       "      <td>0.514756</td>\n",
       "    </tr>\n",
       "    <tr>\n",
       "      <th>2</th>\n",
       "      <td>0.2122</td>\n",
       "      <td>37.7333</td>\n",
       "      <td>801</td>\n",
       "      <td>2001</td>\n",
       "      <td>8</td>\n",
       "      <td>11</td>\n",
       "      <td>21</td>\n",
       "      <td>4</td>\n",
       "      <td>5.27</td>\n",
       "      <td>18.64</td>\n",
       "      <td>18.69</td>\n",
       "      <td>72.75</td>\n",
       "      <td>10.74</td>\n",
       "      <td>0.514756</td>\n",
       "    </tr>\n",
       "    <tr>\n",
       "      <th>3</th>\n",
       "      <td>0.2122</td>\n",
       "      <td>37.7333</td>\n",
       "      <td>801</td>\n",
       "      <td>2001</td>\n",
       "      <td>8</td>\n",
       "      <td>11</td>\n",
       "      <td>21</td>\n",
       "      <td>4</td>\n",
       "      <td>5.27</td>\n",
       "      <td>18.64</td>\n",
       "      <td>18.69</td>\n",
       "      <td>72.75</td>\n",
       "      <td>10.74</td>\n",
       "      <td>0.514756</td>\n",
       "    </tr>\n",
       "    <tr>\n",
       "      <th>4</th>\n",
       "      <td>0.2122</td>\n",
       "      <td>37.7333</td>\n",
       "      <td>801</td>\n",
       "      <td>2001</td>\n",
       "      <td>8</td>\n",
       "      <td>11</td>\n",
       "      <td>21</td>\n",
       "      <td>4</td>\n",
       "      <td>5.27</td>\n",
       "      <td>18.64</td>\n",
       "      <td>18.69</td>\n",
       "      <td>72.75</td>\n",
       "      <td>10.74</td>\n",
       "      <td>0.514756</td>\n",
       "    </tr>\n",
       "  </tbody>\n",
       "</table>\n",
       "</div>"
      ],
      "text/plain": [
       "   latitude  longitude  acq_time  YEAR  month  day  ANN  LISA_cluster  \\\n",
       "0    0.2122    37.7333       801  2001      8   11   21             4   \n",
       "1    0.2122    37.7333       801  2001      8   11   21             4   \n",
       "2    0.2122    37.7333       801  2001      8   11   21             4   \n",
       "3    0.2122    37.7333       801  2001      8   11   21             4   \n",
       "4    0.2122    37.7333       801  2001      8   11   21             4   \n",
       "\n",
       "   Precipitation    LST     TS  RelaHum  Spechum      NDVI  \n",
       "0           5.27  18.64  18.69    72.75    10.74  0.514756  \n",
       "1           5.27  18.64  18.69    72.75    10.74  0.514756  \n",
       "2           5.27  18.64  18.69    72.75    10.74  0.514756  \n",
       "3           5.27  18.64  18.69    72.75    10.74  0.514756  \n",
       "4           5.27  18.64  18.69    72.75    10.74  0.514756  "
      ]
     },
     "execution_count": 3,
     "metadata": {},
     "output_type": "execute_result"
    }
   ],
   "source": [
    "import pandas as pd\n",
    "from sklearn.model_selection import train_test_split\n",
    "from sklearn.ensemble import RandomForestClassifier\n",
    "from sklearn.metrics import classification_report, confusion_matrix\n",
    "\n",
    "# Load fire data and weather data\n",
    "fire_data = fire_data\n",
    "weather_data = pd.read_csv('Precipitation2.csv')\n",
    "\n",
    "\n",
    "#weather_data1 = pd.read_csv(\"RELATIVE HUMIDITY.csv\")\n",
    "#precipitation_data2 = pd.read_csv(\"Monthly_Precipitation_Mt_Kenya_Forest.csv\")\n",
    "landsurface_temp = pd.read_csv(\"LST2.csv\")\n",
    "temp = pd.read_csv(\"Earth SKIN Temp2.csv\")\n",
    "relative_humidity = pd.read_csv(\"Relative_Humidity2.csv\")\n",
    "specific_humidity = pd.read_csv(\"Specific_Humidity2.csv\")\n",
    "soilwetness_surface = pd.read_csv(\"SoilWetness_Surface2.csv\")\n",
    "soilwetness_rootzone = pd.read_csv(\"SoilWetness_Rootzone2.csv\")\n",
    "wind_direction = pd.read_csv(\"Wind_Direction2.csv\")\n",
    "wind_speed = pd.read_csv(\"Wind_Speed2.csv\")\n",
    "yearly_NDVI = pd.read_csv(\"Yearly_Thresholds_Mt_Kenya_Forest22.csv\")\n",
    "#monthly_NDVI = pd.read_csv(\"Monthly_NDVI_Mt_Kenya_Forest.csv\")\n",
    "\n",
    "\n",
    "\n",
    "# Merge datasets based on common columns\n",
    "\n",
    "merged_data = pd.merge(fire_data, weather_data, on=['YEAR'])\n",
    "merged_data = pd.merge(merged_data, landsurface_temp, on=['YEAR'])\n",
    "merged_data = pd.merge(merged_data, temp, on=['YEAR'])\n",
    "merged_data = pd.merge(merged_data, relative_humidity, on=['YEAR']) \n",
    "merged_data = pd.merge(merged_data, specific_humidity, on=['YEAR'])\n",
    "merged_data = pd.merge(merged_data, yearly_NDVI, on=['YEAR'])\n",
    "#merged_data = pd.merge(merged_data, soilwetness_surface, on=['YEAR']) \n",
    "#merged_data = pd.merge(merged_data, soilwetness_rootzone, on=['YEAR']) \n",
    "#merged_data = pd.merge(merged_data, wind_direction, on=['YEAR']) \n",
    "#merged_data = pd.merge(merged_data, wind_speed, on=['YEAR']) \n",
    "\n",
    "\n",
    "merged_data.head()"
   ]
  },
  {
   "cell_type": "code",
   "execution_count": null,
   "id": "99126dec-d666-464c-9e59-83b281dad828",
   "metadata": {},
   "outputs": [],
   "source": [
    "import pandas as pd\n",
    "from sklearn.model_selection import train_test_split\n",
    "from sklearn.ensemble import GradientBoostingClassifier\n",
    "from sklearn.metrics import classification_report, confusion_matrix\n",
    "\n",
    "# Assuming 'Fire occurrence' is your target variable\n",
    "X = merged_data.drop(['latitude', 'longitude', 'acq_time','YEAR','month','day','ANN'], axis=1)  # Features\n",
    "y = merged_data['ANN']  # Target variable\n",
    "\n",
    "# Split data into training and testing sets (adjust test_size and random_state as needed)\n",
    "X_train, X_test, y_train, y_test = train_test_split(X, y, test_size=0.2, random_state=42)\n",
    "\n",
    "# Initialize and train the Gradient Boosting Classifier\n",
    "clf = GradientBoostingClassifier()\n",
    "clf.fit(X_train, y_train)\n",
    "\n",
    "# Make predictions on the test set\n",
    "y_pred = clf.predict(X_test)\n",
    "\n",
    "# Evaluate the model\n",
    "print(\"Classification Report:\")\n",
    "print(classification_report(y_test, y_pred))\n",
    "print(\"Confusion Matrix:\")\n",
    "print(confusion_matrix(y_test, y_pred))\n"
   ]
  },
  {
   "cell_type": "code",
   "execution_count": null,
   "id": "4754a22c-72d5-4b33-b025-25659565aec9",
   "metadata": {},
   "outputs": [],
   "source": []
  }
 ],
 "metadata": {
  "kernelspec": {
   "display_name": "Python 3 (ipykernel)",
   "language": "python",
   "name": "python3"
  },
  "language_info": {
   "codemirror_mode": {
    "name": "ipython",
    "version": 3
   },
   "file_extension": ".py",
   "mimetype": "text/x-python",
   "name": "python",
   "nbconvert_exporter": "python",
   "pygments_lexer": "ipython3",
   "version": "3.11.5"
  }
 },
 "nbformat": 4,
 "nbformat_minor": 5
}
