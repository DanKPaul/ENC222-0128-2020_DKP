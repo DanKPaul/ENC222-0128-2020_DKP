{
 "cells": [
  {
   "cell_type": "code",
   "execution_count": 1,
   "id": "741b4c01-ed3b-4219-afe8-744f98aeccb6",
   "metadata": {
    "tags": []
   },
   "outputs": [],
   "source": [
    "import pandas as pd"
   ]
  },
  {
   "cell_type": "code",
   "execution_count": 2,
   "id": "65657461-8957-4132-a20d-eb0a40062cea",
   "metadata": {
    "tags": []
   },
   "outputs": [],
   "source": [
    "fire = pd.read_csv(\"classified_data2.csv\")\n"
   ]
  },
  {
   "cell_type": "code",
   "execution_count": 3,
   "id": "4f2e37cf-2670-4962-8411-1e9e3c868ca4",
   "metadata": {
    "tags": []
   },
   "outputs": [
    {
     "data": {
      "text/html": [
       "<div>\n",
       "<style scoped>\n",
       "    .dataframe tbody tr th:only-of-type {\n",
       "        vertical-align: middle;\n",
       "    }\n",
       "\n",
       "    .dataframe tbody tr th {\n",
       "        vertical-align: top;\n",
       "    }\n",
       "\n",
       "    .dataframe thead th {\n",
       "        text-align: right;\n",
       "    }\n",
       "</style>\n",
       "<table border=\"1\" class=\"dataframe\">\n",
       "  <thead>\n",
       "    <tr style=\"text-align: right;\">\n",
       "      <th></th>\n",
       "      <th>latitude</th>\n",
       "      <th>longitude</th>\n",
       "      <th>acq_time</th>\n",
       "      <th>YEAR</th>\n",
       "      <th>month</th>\n",
       "      <th>day</th>\n",
       "      <th>ANN</th>\n",
       "      <th>LISA_cluster</th>\n",
       "    </tr>\n",
       "  </thead>\n",
       "  <tbody>\n",
       "    <tr>\n",
       "      <th>0</th>\n",
       "      <td>0.2122</td>\n",
       "      <td>37.7333</td>\n",
       "      <td>801</td>\n",
       "      <td>2001</td>\n",
       "      <td>8</td>\n",
       "      <td>11</td>\n",
       "      <td>21</td>\n",
       "      <td>4</td>\n",
       "    </tr>\n",
       "    <tr>\n",
       "      <th>1</th>\n",
       "      <td>0.1272</td>\n",
       "      <td>37.5555</td>\n",
       "      <td>2023</td>\n",
       "      <td>2001</td>\n",
       "      <td>8</td>\n",
       "      <td>11</td>\n",
       "      <td>21</td>\n",
       "      <td>2</td>\n",
       "    </tr>\n",
       "    <tr>\n",
       "      <th>2</th>\n",
       "      <td>-0.0990</td>\n",
       "      <td>37.4320</td>\n",
       "      <td>843</td>\n",
       "      <td>2001</td>\n",
       "      <td>9</td>\n",
       "      <td>13</td>\n",
       "      <td>21</td>\n",
       "      <td>2</td>\n",
       "    </tr>\n",
       "    <tr>\n",
       "      <th>3</th>\n",
       "      <td>-0.1280</td>\n",
       "      <td>37.4616</td>\n",
       "      <td>843</td>\n",
       "      <td>2001</td>\n",
       "      <td>9</td>\n",
       "      <td>13</td>\n",
       "      <td>21</td>\n",
       "      <td>3</td>\n",
       "    </tr>\n",
       "    <tr>\n",
       "      <th>4</th>\n",
       "      <td>-0.1350</td>\n",
       "      <td>37.4570</td>\n",
       "      <td>843</td>\n",
       "      <td>2001</td>\n",
       "      <td>9</td>\n",
       "      <td>13</td>\n",
       "      <td>21</td>\n",
       "      <td>3</td>\n",
       "    </tr>\n",
       "    <tr>\n",
       "      <th>...</th>\n",
       "      <td>...</td>\n",
       "      <td>...</td>\n",
       "      <td>...</td>\n",
       "      <td>...</td>\n",
       "      <td>...</td>\n",
       "      <td>...</td>\n",
       "      <td>...</td>\n",
       "      <td>...</td>\n",
       "    </tr>\n",
       "    <tr>\n",
       "      <th>1304</th>\n",
       "      <td>0.1093</td>\n",
       "      <td>37.2822</td>\n",
       "      <td>756</td>\n",
       "      <td>2022</td>\n",
       "      <td>4</td>\n",
       "      <td>29</td>\n",
       "      <td>88</td>\n",
       "      <td>1</td>\n",
       "    </tr>\n",
       "    <tr>\n",
       "      <th>1305</th>\n",
       "      <td>0.1203</td>\n",
       "      <td>37.4401</td>\n",
       "      <td>811</td>\n",
       "      <td>2022</td>\n",
       "      <td>8</td>\n",
       "      <td>24</td>\n",
       "      <td>88</td>\n",
       "      <td>1</td>\n",
       "    </tr>\n",
       "    <tr>\n",
       "      <th>1306</th>\n",
       "      <td>-0.4139</td>\n",
       "      <td>36.9572</td>\n",
       "      <td>1141</td>\n",
       "      <td>2022</td>\n",
       "      <td>9</td>\n",
       "      <td>24</td>\n",
       "      <td>88</td>\n",
       "      <td>1</td>\n",
       "    </tr>\n",
       "    <tr>\n",
       "      <th>1307</th>\n",
       "      <td>0.0992</td>\n",
       "      <td>37.7738</td>\n",
       "      <td>745</td>\n",
       "      <td>2022</td>\n",
       "      <td>9</td>\n",
       "      <td>29</td>\n",
       "      <td>88</td>\n",
       "      <td>1</td>\n",
       "    </tr>\n",
       "    <tr>\n",
       "      <th>1308</th>\n",
       "      <td>0.1005</td>\n",
       "      <td>37.7649</td>\n",
       "      <td>745</td>\n",
       "      <td>2022</td>\n",
       "      <td>9</td>\n",
       "      <td>29</td>\n",
       "      <td>88</td>\n",
       "      <td>4</td>\n",
       "    </tr>\n",
       "  </tbody>\n",
       "</table>\n",
       "<p>1309 rows × 8 columns</p>\n",
       "</div>"
      ],
      "text/plain": [
       "      latitude  longitude  acq_time  YEAR  month  day  ANN  LISA_cluster\n",
       "0       0.2122    37.7333       801  2001      8   11   21             4\n",
       "1       0.1272    37.5555      2023  2001      8   11   21             2\n",
       "2      -0.0990    37.4320       843  2001      9   13   21             2\n",
       "3      -0.1280    37.4616       843  2001      9   13   21             3\n",
       "4      -0.1350    37.4570       843  2001      9   13   21             3\n",
       "...        ...        ...       ...   ...    ...  ...  ...           ...\n",
       "1304    0.1093    37.2822       756  2022      4   29   88             1\n",
       "1305    0.1203    37.4401       811  2022      8   24   88             1\n",
       "1306   -0.4139    36.9572      1141  2022      9   24   88             1\n",
       "1307    0.0992    37.7738       745  2022      9   29   88             1\n",
       "1308    0.1005    37.7649       745  2022      9   29   88             4\n",
       "\n",
       "[1309 rows x 8 columns]"
      ]
     },
     "execution_count": 3,
     "metadata": {},
     "output_type": "execute_result"
    }
   ],
   "source": [
    "fire"
   ]
  },
  {
   "cell_type": "code",
   "execution_count": 4,
   "id": "b7d04dd4-31da-4b22-abf0-3a5d9a76fbc0",
   "metadata": {
    "tags": []
   },
   "outputs": [],
   "source": [
    "df = pd.DataFrame(fire)"
   ]
  },
  {
   "cell_type": "code",
   "execution_count": 5,
   "id": "ba0bee20-5e1d-4c21-8239-301e59f778fa",
   "metadata": {
    "tags": []
   },
   "outputs": [
    {
     "data": {
      "text/html": [
       "<div>\n",
       "<style scoped>\n",
       "    .dataframe tbody tr th:only-of-type {\n",
       "        vertical-align: middle;\n",
       "    }\n",
       "\n",
       "    .dataframe tbody tr th {\n",
       "        vertical-align: top;\n",
       "    }\n",
       "\n",
       "    .dataframe thead th {\n",
       "        text-align: right;\n",
       "    }\n",
       "</style>\n",
       "<table border=\"1\" class=\"dataframe\">\n",
       "  <thead>\n",
       "    <tr style=\"text-align: right;\">\n",
       "      <th></th>\n",
       "      <th>latitude</th>\n",
       "      <th>longitude</th>\n",
       "      <th>acq_time</th>\n",
       "      <th>YEAR</th>\n",
       "      <th>month</th>\n",
       "      <th>day</th>\n",
       "      <th>ANN</th>\n",
       "      <th>LISA_cluster</th>\n",
       "    </tr>\n",
       "  </thead>\n",
       "  <tbody>\n",
       "    <tr>\n",
       "      <th>0</th>\n",
       "      <td>0.2122</td>\n",
       "      <td>37.7333</td>\n",
       "      <td>801</td>\n",
       "      <td>2001</td>\n",
       "      <td>8</td>\n",
       "      <td>11</td>\n",
       "      <td>21</td>\n",
       "      <td>4</td>\n",
       "    </tr>\n",
       "    <tr>\n",
       "      <th>1</th>\n",
       "      <td>0.1272</td>\n",
       "      <td>37.5555</td>\n",
       "      <td>2023</td>\n",
       "      <td>2001</td>\n",
       "      <td>8</td>\n",
       "      <td>11</td>\n",
       "      <td>21</td>\n",
       "      <td>2</td>\n",
       "    </tr>\n",
       "    <tr>\n",
       "      <th>2</th>\n",
       "      <td>-0.0990</td>\n",
       "      <td>37.4320</td>\n",
       "      <td>843</td>\n",
       "      <td>2001</td>\n",
       "      <td>9</td>\n",
       "      <td>13</td>\n",
       "      <td>21</td>\n",
       "      <td>2</td>\n",
       "    </tr>\n",
       "    <tr>\n",
       "      <th>3</th>\n",
       "      <td>-0.1280</td>\n",
       "      <td>37.4616</td>\n",
       "      <td>843</td>\n",
       "      <td>2001</td>\n",
       "      <td>9</td>\n",
       "      <td>13</td>\n",
       "      <td>21</td>\n",
       "      <td>3</td>\n",
       "    </tr>\n",
       "    <tr>\n",
       "      <th>4</th>\n",
       "      <td>-0.1350</td>\n",
       "      <td>37.4570</td>\n",
       "      <td>843</td>\n",
       "      <td>2001</td>\n",
       "      <td>9</td>\n",
       "      <td>13</td>\n",
       "      <td>21</td>\n",
       "      <td>3</td>\n",
       "    </tr>\n",
       "    <tr>\n",
       "      <th>...</th>\n",
       "      <td>...</td>\n",
       "      <td>...</td>\n",
       "      <td>...</td>\n",
       "      <td>...</td>\n",
       "      <td>...</td>\n",
       "      <td>...</td>\n",
       "      <td>...</td>\n",
       "      <td>...</td>\n",
       "    </tr>\n",
       "    <tr>\n",
       "      <th>1304</th>\n",
       "      <td>0.1093</td>\n",
       "      <td>37.2822</td>\n",
       "      <td>756</td>\n",
       "      <td>2022</td>\n",
       "      <td>4</td>\n",
       "      <td>29</td>\n",
       "      <td>88</td>\n",
       "      <td>1</td>\n",
       "    </tr>\n",
       "    <tr>\n",
       "      <th>1305</th>\n",
       "      <td>0.1203</td>\n",
       "      <td>37.4401</td>\n",
       "      <td>811</td>\n",
       "      <td>2022</td>\n",
       "      <td>8</td>\n",
       "      <td>24</td>\n",
       "      <td>88</td>\n",
       "      <td>1</td>\n",
       "    </tr>\n",
       "    <tr>\n",
       "      <th>1306</th>\n",
       "      <td>-0.4139</td>\n",
       "      <td>36.9572</td>\n",
       "      <td>1141</td>\n",
       "      <td>2022</td>\n",
       "      <td>9</td>\n",
       "      <td>24</td>\n",
       "      <td>88</td>\n",
       "      <td>1</td>\n",
       "    </tr>\n",
       "    <tr>\n",
       "      <th>1307</th>\n",
       "      <td>0.0992</td>\n",
       "      <td>37.7738</td>\n",
       "      <td>745</td>\n",
       "      <td>2022</td>\n",
       "      <td>9</td>\n",
       "      <td>29</td>\n",
       "      <td>88</td>\n",
       "      <td>1</td>\n",
       "    </tr>\n",
       "    <tr>\n",
       "      <th>1308</th>\n",
       "      <td>0.1005</td>\n",
       "      <td>37.7649</td>\n",
       "      <td>745</td>\n",
       "      <td>2022</td>\n",
       "      <td>9</td>\n",
       "      <td>29</td>\n",
       "      <td>88</td>\n",
       "      <td>4</td>\n",
       "    </tr>\n",
       "  </tbody>\n",
       "</table>\n",
       "<p>1309 rows × 8 columns</p>\n",
       "</div>"
      ],
      "text/plain": [
       "      latitude  longitude  acq_time  YEAR  month  day  ANN  LISA_cluster\n",
       "0       0.2122    37.7333       801  2001      8   11   21             4\n",
       "1       0.1272    37.5555      2023  2001      8   11   21             2\n",
       "2      -0.0990    37.4320       843  2001      9   13   21             2\n",
       "3      -0.1280    37.4616       843  2001      9   13   21             3\n",
       "4      -0.1350    37.4570       843  2001      9   13   21             3\n",
       "...        ...        ...       ...   ...    ...  ...  ...           ...\n",
       "1304    0.1093    37.2822       756  2022      4   29   88             1\n",
       "1305    0.1203    37.4401       811  2022      8   24   88             1\n",
       "1306   -0.4139    36.9572      1141  2022      9   24   88             1\n",
       "1307    0.0992    37.7738       745  2022      9   29   88             1\n",
       "1308    0.1005    37.7649       745  2022      9   29   88             4\n",
       "\n",
       "[1309 rows x 8 columns]"
      ]
     },
     "execution_count": 5,
     "metadata": {},
     "output_type": "execute_result"
    }
   ],
   "source": [
    "df"
   ]
  },
  {
   "cell_type": "code",
   "execution_count": 6,
   "id": "a5278c83-56b4-41ae-a689-58fb37e7feb7",
   "metadata": {
    "tags": []
   },
   "outputs": [],
   "source": [
    "# Aggregating data\n",
    "years_agg = df.groupby('YEAR')['ANN'].count()\n",
    "months_agg = df.groupby('month')['ANN'].count()\n",
    "lisa_cluster_counts = df['LISA_cluster'].value_counts().sort_index()"
   ]
  },
  {
   "cell_type": "code",
   "execution_count": 7,
   "id": "921b1e7e-e4c4-4062-9329-ac086cd49b4f",
   "metadata": {
    "tags": []
   },
   "outputs": [
    {
     "data": {
      "image/png": "[encoded data removed]",
      "text/plain": [
       "<Figure size 1000x500 with 1 Axes>"
      ]
     },
     "metadata": {},
     "output_type": "display_data"
    },
    {
     "data": {
      "text/plain": [
       "<Figure size 640x480 with 0 Axes>"
      ]
     },
     "metadata": {},
     "output_type": "display_data"
    }
   ],
   "source": [
    "import matplotlib.pyplot as plt\n",
    "\n",
    "\n",
    "# Plotting YEAR vs ANN\n",
    "plt.figure(figsize=(10, 5))\n",
    "plt.bar(years_agg.index, years_agg.values)\n",
    "plt.xlabel('Year')\n",
    "plt.ylabel(' Fire Count')\n",
    "plt.title(' Fire Count by Year')\n",
    "plt.show()\n",
    "\n",
    "plt.savefig(\"Fire Count by YEAR\", dpi=300, bbox_inches = 'tight')"
   ]
  },
  {
   "cell_type": "code",
   "execution_count": 8,
   "id": "994dfef8-5eda-4122-b8a0-a9e6133363c3",
   "metadata": {
    "tags": []
   },
   "outputs": [
    {
     "data": {
      "image/png": "[encoded data removed]",
      "text/plain": [
       "<Figure size 1000x500 with 1 Axes>"
      ]
     },
     "metadata": {},
     "output_type": "display_data"
    },
    {
     "data": {
      "text/plain": [
       "<Figure size 640x480 with 0 Axes>"
      ]
     },
     "metadata": {},
     "output_type": "display_data"
    }
   ],
   "source": [
    "# Plotting month vs ANN count\n",
    "plt.figure(figsize=(10, 5))\n",
    "plt.bar(months_agg.index, months_agg.values)\n",
    "plt.xlabel('Month')\n",
    "plt.ylabel('Fire Count')\n",
    "plt.title('Fire Count by Month')\n",
    "plt.grid(True)\n",
    "plt.show()\n",
    "\n",
    "plt.savefig(\"Fire Count by Month\", dpi=300, bbox_inches = 'tight')"
   ]
  },
  {
   "cell_type": "code",
   "execution_count": 9,
   "id": "37009ee1-e2f0-4f3b-8a78-73219969d71a",
   "metadata": {
    "tags": []
   },
   "outputs": [
    {
     "data": {
      "image/png": "[encoded data removed]",
      "text/plain": [
       "<Figure size 1000x500 with 1 Axes>"
      ]
     },
     "metadata": {},
     "output_type": "display_data"
    },
    {
     "data": {
      "text/plain": [
       "<Figure size 640x480 with 0 Axes>"
      ]
     },
     "metadata": {},
     "output_type": "display_data"
    }
   ],
   "source": [
    "\n",
    "# Plotting LISA_cluster counts\n",
    "plt.figure(figsize=(10, 5))\n",
    "plt.bar(lisa_cluster_counts.index, lisa_cluster_counts.values)\n",
    "plt.xlabel('LISA Cluster')\n",
    "plt.ylabel(' Fire Count')\n",
    "plt.title('Count of LISA Cluster')\n",
    "plt.grid(True)\n",
    "plt.show()\n",
    "\n",
    "plt.savefig(\"LISA Cluster Count\", dpi=300, bbox_inches = 'tight')"
   ]
  },
  {
   "cell_type": "code",
   "execution_count": null,
   "id": "5e285fb8-ba44-4207-8cc5-d55cf4bc014d",
   "metadata": {},
   "outputs": [],
   "source": []
  },
  {
   "cell_type": "code",
   "execution_count": 10,
   "id": "5e555c12-9c20-4b96-a6f1-17a6f9c08ff2",
   "metadata": {
    "tags": []
   },
   "outputs": [],
   "source": [
    "#TIME SERIES ANALYSIS"
   ]
  },
  {
   "cell_type": "code",
   "execution_count": 11,
   "id": "15c198c8-5cdf-4cec-a198-7a7d2ab2d7fd",
   "metadata": {
    "tags": []
   },
   "outputs": [],
   "source": [
    "df = pd.DataFrame(fire)"
   ]
  },
  {
   "cell_type": "code",
   "execution_count": 12,
   "id": "3a22ffdd-83f5-4260-bcda-32e9a5bb5091",
   "metadata": {
    "tags": []
   },
   "outputs": [],
   "source": [
    "# Group by year and sum ANN values\n",
    "annual_ann = df.groupby('YEAR')['ANN'].count()"
   ]
  },
  {
   "cell_type": "code",
   "execution_count": 13,
   "id": "53f05ce8-cb82-4485-9bba-94f67c8dfe35",
   "metadata": {
    "tags": []
   },
   "outputs": [
    {
     "data": {
      "text/plain": [
       "YEAR\n",
       "2001     21\n",
       "2002     23\n",
       "2003     36\n",
       "2004     33\n",
       "2005     51\n",
       "2006     75\n",
       "2007     36\n",
       "2008     96\n",
       "2009    102\n",
       "2010     17\n",
       "2011     73\n",
       "2012    215\n",
       "2013     27\n",
       "2014     32\n",
       "2015     39\n",
       "2016     31\n",
       "2017     51\n",
       "2018     16\n",
       "2019    205\n",
       "2020     20\n",
       "2021     22\n",
       "2022     88\n",
       "Name: ANN, dtype: int64"
      ]
     },
     "execution_count": 13,
     "metadata": {},
     "output_type": "execute_result"
    }
   ],
   "source": [
    "annual_ann"
   ]
  },
  {
   "cell_type": "code",
   "execution_count": 14,
   "id": "d2a57c7d-e5ef-4d31-9ff0-785e3c797a86",
   "metadata": {
    "tags": []
   },
   "outputs": [
    {
     "data": {
      "image/png": "[encoded data removed]",
      "text/plain": [
       "<Figure size 1000x500 with 1 Axes>"
      ]
     },
     "metadata": {},
     "output_type": "display_data"
    }
   ],
   "source": [
    "plt.figure(figsize=(10, 5))\n",
    "plt.plot(annual_ann.index, annual_ann.values, marker='o')\n",
    "plt.xlabel('Year')\n",
    "plt.ylabel('ANN')\n",
    "plt.title('ANN by Year')\n",
    "plt.grid(True)\n",
    "plt.show()\n",
    "\n",
    "\n"
   ]
  },
  {
   "cell_type": "code",
   "execution_count": 15,
   "id": "45b93015-a210-4451-81fb-c13169245573",
   "metadata": {
    "tags": []
   },
   "outputs": [],
   "source": [
    "from scipy.fft import fft\n",
    "import numpy as np"
   ]
  },
  {
   "cell_type": "code",
   "execution_count": 16,
   "id": "ba2b6198-5bb8-4f10-a3a6-f7f9047426d0",
   "metadata": {
    "tags": []
   },
   "outputs": [
    {
     "data": {
      "image/png": "[encoded data removed]",
      "text/plain": [
       "<Figure size 1000x500 with 1 Axes>"
      ]
     },
     "metadata": {},
     "output_type": "display_data"
    },
    {
     "data": {
      "text/plain": [
       "<Figure size 640x480 with 0 Axes>"
      ]
     },
     "metadata": {},
     "output_type": "display_data"
    }
   ],
   "source": [
    "# Perform FFT\n",
    "ann_values = annual_ann.values\n",
    "fft_values = fft(ann_values)\n",
    "\n",
    "# Calculate frequencies\n",
    "n = len(ann_values)\n",
    "timestep = 1  # assuming yearly data\n",
    "frequencies = np.fft.fftfreq(n, d=timestep)\n",
    "\n",
    "# Only take the positive frequencies\n",
    "mask = frequencies >= 0\n",
    "frequencies = frequencies[mask]\n",
    "fft_values = fft_values[mask]\n",
    "\n",
    "# Plot the frequency domain representation\n",
    "plt.figure(figsize=(10, 5))\n",
    "plt.plot(frequencies, np.abs(fft_values), marker='o',)\n",
    "plt.xlabel('Frequency')\n",
    "plt.ylabel('Magnitude')\n",
    "plt.title('Frequency Domain Representation of ANN')\n",
    "plt.grid(True)\n",
    "plt.show()\n",
    "\n",
    "plt.savefig(\"Frequency Domain ANN\", dpi=300, bbox_inches = 'tight')"
   ]
  },
  {
   "cell_type": "code",
   "execution_count": null,
   "id": "2c633ae3-510b-438c-a521-fdd5e7db6973",
   "metadata": {},
   "outputs": [],
   "source": []
  },
  {
   "cell_type": "code",
   "execution_count": null,
   "id": "a6c255e0-05ed-4562-a70b-6683f0b12e86",
   "metadata": {},
   "outputs": [],
   "source": []
  },
  {
   "cell_type": "code",
   "execution_count": 17,
   "id": "9d67b704-e1ac-425e-8ced-d838af5cc0f9",
   "metadata": {
    "tags": []
   },
   "outputs": [],
   "source": [
    "# Group by year and sum ANN values\n",
    "monthly_ann = df.groupby('month')['ANN'].count()"
   ]
  },
  {
   "cell_type": "code",
   "execution_count": 18,
   "id": "43702836-a4ac-48a9-87e6-1edb28ab5d7d",
   "metadata": {
    "tags": []
   },
   "outputs": [
    {
     "data": {
      "text/plain": [
       "month\n",
       "1     118\n",
       "2     301\n",
       "3     474\n",
       "4      77\n",
       "5      18\n",
       "6      19\n",
       "7      36\n",
       "8     105\n",
       "9      65\n",
       "10     57\n",
       "11     16\n",
       "12     23\n",
       "Name: ANN, dtype: int64"
      ]
     },
     "execution_count": 18,
     "metadata": {},
     "output_type": "execute_result"
    }
   ],
   "source": [
    "monthly_ann"
   ]
  },
  {
   "cell_type": "code",
   "execution_count": 19,
   "id": "e8f16c57-713e-4e00-801e-aa22b607ee45",
   "metadata": {
    "tags": []
   },
   "outputs": [
    {
     "data": {
      "image/png": "[encoded data removed]",
      "text/plain": [
       "<Figure size 1000x500 with 1 Axes>"
      ]
     },
     "metadata": {},
     "output_type": "display_data"
    }
   ],
   "source": [
    "# Perform FFT\n",
    "ann_values = monthly_ann.values\n",
    "fft_values = fft(monthly_ann)\n",
    "\n",
    "# Calculate frequencies\n",
    "n = len(ann_values)\n",
    "timestep = 1  # assuming monthly data\n",
    "frequencies = np.fft.fftfreq(n, d=timestep)\n",
    "\n",
    "# Only take the positive frequencies\n",
    "mask = frequencies >= 0\n",
    "frequencies = frequencies[mask]\n",
    "fft_values = fft_values[mask]\n",
    "\n",
    "# Plot the frequency domain representation\n",
    "plt.figure(figsize=(10, 5))\n",
    "plt.plot(frequencies, np.abs(fft_values), marker='o')\n",
    "plt.xlabel('Frequency')\n",
    "plt.ylabel('Magnitude')\n",
    "plt.title('Frequency Domain Representation of ANN')\n",
    "plt.grid(True)\n",
    "plt.show()"
   ]
  },
  {
   "cell_type": "code",
   "execution_count": null,
   "id": "90bcf51a-b81e-4f6d-88a4-13e46b1aa2ba",
   "metadata": {},
   "outputs": [],
   "source": []
  },
  {
   "cell_type": "code",
   "execution_count": null,
   "id": "3f95656b-704c-4c21-b97b-87fd9e868553",
   "metadata": {},
   "outputs": [],
   "source": []
  },
  {
   "cell_type": "code",
   "execution_count": null,
   "id": "4a355446-bbfc-4b40-a77f-bdf7c1883926",
   "metadata": {},
   "outputs": [],
   "source": []
  },
  {
   "cell_type": "code",
   "execution_count": null,
   "id": "208b3fd9-3d61-43dc-a649-6f19ea4fe166",
   "metadata": {},
   "outputs": [],
   "source": []
  },
  {
   "cell_type": "code",
   "execution_count": null,
   "id": "754eda82-7361-401f-8446-6c1b7272f80a",
   "metadata": {},
   "outputs": [],
   "source": []
  },
  {
   "cell_type": "code",
   "execution_count": null,
   "id": "f7343733-96b3-425e-9833-2303a6ab54d8",
   "metadata": {},
   "outputs": [],
   "source": []
  },
  {
   "cell_type": "code",
   "execution_count": 20,
   "id": "a2509935-c950-455e-9985-7e123b2ca1fc",
   "metadata": {
    "tags": []
   },
   "outputs": [
    {
     "name": "stdout",
     "output_type": "stream",
     "text": [
      "CSV file saved as 'annual_ann.csv'\n"
     ]
    }
   ],
   "source": [
    "import pandas as pd\n",
    "\n",
    "# Assuming df is your DataFrame and it's already loaded\n",
    "fire = pd.read_csv(\"classified_data2.csv\")\n",
    "df = pd.DataFrame(fire)\n",
    "\n",
    "\n",
    "# Group by year and sum ANN values\n",
    "annual_ann = df.groupby('YEAR')['ANN'].count()\n",
    "\n",
    "# Convert the Series to a DataFrame\n",
    "annual_ann_df = annual_ann.reset_index()\n",
    "\n",
    "# Save the resulting DataFrame to a CSV file\n",
    "annual_ann_df.to_csv('annual_ann.csv', index=False)\n",
    "\n",
    "print(\"CSV file saved as 'annual_ann.csv'\")\n"
   ]
  },
  {
   "cell_type": "code",
   "execution_count": 21,
   "id": "945e4e85-7959-424d-959f-219a3731f128",
   "metadata": {
    "tags": []
   },
   "outputs": [],
   "source": [
    "Fire = pd.read_csv('annual_ann.csv')"
   ]
  },
  {
   "cell_type": "code",
   "execution_count": 22,
   "id": "e98ecd64-5250-4f85-9a7c-15246a7dcbeb",
   "metadata": {
    "tags": []
   },
   "outputs": [
    {
     "data": {
      "text/html": [
       "<div>\n",
       "<style scoped>\n",
       "    .dataframe tbody tr th:only-of-type {\n",
       "        vertical-align: middle;\n",
       "    }\n",
       "\n",
       "    .dataframe tbody tr th {\n",
       "        vertical-align: top;\n",
       "    }\n",
       "\n",
       "    .dataframe thead th {\n",
       "        text-align: right;\n",
       "    }\n",
       "</style>\n",
       "<table border=\"1\" class=\"dataframe\">\n",
       "  <thead>\n",
       "    <tr style=\"text-align: right;\">\n",
       "      <th></th>\n",
       "      <th>YEAR</th>\n",
       "      <th>ANN</th>\n",
       "    </tr>\n",
       "  </thead>\n",
       "  <tbody>\n",
       "    <tr>\n",
       "      <th>0</th>\n",
       "      <td>2001</td>\n",
       "      <td>21</td>\n",
       "    </tr>\n",
       "    <tr>\n",
       "      <th>1</th>\n",
       "      <td>2002</td>\n",
       "      <td>23</td>\n",
       "    </tr>\n",
       "    <tr>\n",
       "      <th>2</th>\n",
       "      <td>2003</td>\n",
       "      <td>36</td>\n",
       "    </tr>\n",
       "    <tr>\n",
       "      <th>3</th>\n",
       "      <td>2004</td>\n",
       "      <td>33</td>\n",
       "    </tr>\n",
       "    <tr>\n",
       "      <th>4</th>\n",
       "      <td>2005</td>\n",
       "      <td>51</td>\n",
       "    </tr>\n",
       "    <tr>\n",
       "      <th>5</th>\n",
       "      <td>2006</td>\n",
       "      <td>75</td>\n",
       "    </tr>\n",
       "    <tr>\n",
       "      <th>6</th>\n",
       "      <td>2007</td>\n",
       "      <td>36</td>\n",
       "    </tr>\n",
       "    <tr>\n",
       "      <th>7</th>\n",
       "      <td>2008</td>\n",
       "      <td>96</td>\n",
       "    </tr>\n",
       "    <tr>\n",
       "      <th>8</th>\n",
       "      <td>2009</td>\n",
       "      <td>102</td>\n",
       "    </tr>\n",
       "    <tr>\n",
       "      <th>9</th>\n",
       "      <td>2010</td>\n",
       "      <td>17</td>\n",
       "    </tr>\n",
       "    <tr>\n",
       "      <th>10</th>\n",
       "      <td>2011</td>\n",
       "      <td>73</td>\n",
       "    </tr>\n",
       "    <tr>\n",
       "      <th>11</th>\n",
       "      <td>2012</td>\n",
       "      <td>215</td>\n",
       "    </tr>\n",
       "    <tr>\n",
       "      <th>12</th>\n",
       "      <td>2013</td>\n",
       "      <td>27</td>\n",
       "    </tr>\n",
       "    <tr>\n",
       "      <th>13</th>\n",
       "      <td>2014</td>\n",
       "      <td>32</td>\n",
       "    </tr>\n",
       "    <tr>\n",
       "      <th>14</th>\n",
       "      <td>2015</td>\n",
       "      <td>39</td>\n",
       "    </tr>\n",
       "    <tr>\n",
       "      <th>15</th>\n",
       "      <td>2016</td>\n",
       "      <td>31</td>\n",
       "    </tr>\n",
       "    <tr>\n",
       "      <th>16</th>\n",
       "      <td>2017</td>\n",
       "      <td>51</td>\n",
       "    </tr>\n",
       "    <tr>\n",
       "      <th>17</th>\n",
       "      <td>2018</td>\n",
       "      <td>16</td>\n",
       "    </tr>\n",
       "    <tr>\n",
       "      <th>18</th>\n",
       "      <td>2019</td>\n",
       "      <td>205</td>\n",
       "    </tr>\n",
       "    <tr>\n",
       "      <th>19</th>\n",
       "      <td>2020</td>\n",
       "      <td>20</td>\n",
       "    </tr>\n",
       "    <tr>\n",
       "      <th>20</th>\n",
       "      <td>2021</td>\n",
       "      <td>22</td>\n",
       "    </tr>\n",
       "    <tr>\n",
       "      <th>21</th>\n",
       "      <td>2022</td>\n",
       "      <td>88</td>\n",
       "    </tr>\n",
       "  </tbody>\n",
       "</table>\n",
       "</div>"
      ],
      "text/plain": [
       "    YEAR  ANN\n",
       "0   2001   21\n",
       "1   2002   23\n",
       "2   2003   36\n",
       "3   2004   33\n",
       "4   2005   51\n",
       "5   2006   75\n",
       "6   2007   36\n",
       "7   2008   96\n",
       "8   2009  102\n",
       "9   2010   17\n",
       "10  2011   73\n",
       "11  2012  215\n",
       "12  2013   27\n",
       "13  2014   32\n",
       "14  2015   39\n",
       "15  2016   31\n",
       "16  2017   51\n",
       "17  2018   16\n",
       "18  2019  205\n",
       "19  2020   20\n",
       "20  2021   22\n",
       "21  2022   88"
      ]
     },
     "execution_count": 22,
     "metadata": {},
     "output_type": "execute_result"
    }
   ],
   "source": [
    "Fire"
   ]
  },
  {
   "cell_type": "code",
   "execution_count": null,
   "id": "7c4eb340-4781-4cfb-8fc2-91bee29d8ead",
   "metadata": {},
   "outputs": [],
   "source": []
  }
 ],
 "metadata": {
  "kernelspec": {
   "display_name": "Python 3 (ipykernel)",
   "language": "python",
   "name": "python3"
  },
  "language_info": {
   "codemirror_mode": {
    "name": "ipython",
    "version": 3
   },
   "file_extension": ".py",
   "mimetype": "text/x-python",
   "name": "python",
   "nbconvert_exporter": "python",
   "pygments_lexer": "ipython3",
   "version": "3.11.5"
  }
 },
 "nbformat": 4,
 "nbformat_minor": 5
}
